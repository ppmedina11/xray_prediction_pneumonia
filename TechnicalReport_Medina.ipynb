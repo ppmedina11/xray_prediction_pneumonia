{
 "cells": [
  {
   "cell_type": "code",
   "execution_count": 1,
   "id": "342f9712-bab7-41ba-bec0-20ba6b5c5605",
   "metadata": {
    "execution": {
     "iopub.execute_input": "2023-12-09T18:55:32.372526Z",
     "iopub.status.busy": "2023-12-09T18:55:32.371759Z",
     "iopub.status.idle": "2023-12-09T18:55:39.601943Z",
     "shell.execute_reply": "2023-12-09T18:55:39.599291Z",
     "shell.execute_reply.started": "2023-12-09T18:55:32.372448Z"
    },
    "tags": []
   },
   "outputs": [],
   "source": [
    "%%capture\n",
    "!pip install opencv-python"
   ]
  },
  {
   "cell_type": "code",
   "execution_count": 2,
   "id": "d42ecc13-c42a-466e-9f81-90412ededc99",
   "metadata": {
    "execution": {
     "iopub.execute_input": "2023-12-09T18:55:39.606498Z",
     "iopub.status.busy": "2023-12-09T18:55:39.605784Z",
     "iopub.status.idle": "2023-12-09T18:55:39.624301Z",
     "shell.execute_reply": "2023-12-09T18:55:39.622535Z",
     "shell.execute_reply.started": "2023-12-09T18:55:39.606436Z"
    },
    "tags": []
   },
   "outputs": [
    {
     "data": {
      "text/html": [
       "<script src=\"require.js\"></script>\n"
      ],
      "text/plain": [
       "<IPython.core.display.HTML object>"
      ]
     },
     "metadata": {},
     "output_type": "display_data"
    }
   ],
   "source": [
    "%%HTML\n",
    "<script src=\"require.js\"></script>"
   ]
  },
  {
   "cell_type": "code",
   "execution_count": 3,
   "id": "fb96f7aa-1871-4225-8816-9a5e61f51447",
   "metadata": {
    "execution": {
     "iopub.execute_input": "2023-12-09T18:55:39.627260Z",
     "iopub.status.busy": "2023-12-09T18:55:39.626633Z",
     "iopub.status.idle": "2023-12-09T18:55:39.639892Z",
     "shell.execute_reply": "2023-12-09T18:55:39.638247Z",
     "shell.execute_reply.started": "2023-12-09T18:55:39.627200Z"
    },
    "tags": []
   },
   "outputs": [
    {
     "data": {
      "text/html": [
       "\n",
       "<script src=\"https://cdnjs.cloudflare.com/ajax/libs/jquery/2.0.3/jquery.min.js \"></script><script>\n",
       "code_show=true; \n",
       "function code_toggle() {\n",
       "if (code_show){\n",
       "$('div.jp-CodeCell > div.jp-Cell-inputWrapper').hide();\n",
       "} else {\n",
       "$('div.jp-CodeCell > div.jp-Cell-inputWrapper').show();\n",
       "}\n",
       "code_show = !code_show\n",
       "} \n",
       "$( document ).ready(code_toggle);</script><form action=\"javascript:code_toggle()\"><input type=\"submit\" value=\"Click here to toggle on/off the raw code.\"></form>\n"
      ],
      "text/plain": [
       "<IPython.core.display.HTML object>"
      ]
     },
     "execution_count": 3,
     "metadata": {},
     "output_type": "execute_result"
    }
   ],
   "source": [
    "from IPython.display import display, HTML, clear_output\n",
    "HTML('''\n",
    "<script src=\"https://cdnjs.cloudflare.com/ajax/libs/jquery/2.0.3/jquery.min.js \"></script><script>\n",
    "code_show=true; \n",
    "function code_toggle() {\n",
    "if (code_show){\n",
    "$('div.jp-CodeCell > div.jp-Cell-inputWrapper').hide();\n",
    "} else {\n",
    "$('div.jp-CodeCell > div.jp-Cell-inputWrapper').show();\n",
    "}\n",
    "code_show = !code_show\n",
    "} \n",
    "$( document ).ready(code_toggle);</script><form action=\"javascript:code_toggle()\"><input type=\"submit\" value=\"Click here to toggle on/off the raw code.\"></form>\n",
    "''')"
   ]
  },
  {
   "cell_type": "markdown",
   "id": "af494671-5841-4956-a4c2-6f67513b6662",
   "metadata": {
    "execution": {
     "iopub.execute_input": "2023-12-08T09:15:14.082429Z",
     "iopub.status.busy": "2023-12-08T09:15:14.081560Z",
     "iopub.status.idle": "2023-12-08T09:15:14.091855Z",
     "shell.execute_reply": "2023-12-08T09:15:14.090259Z",
     "shell.execute_reply.started": "2023-12-08T09:15:14.082359Z"
    },
    "tags": []
   },
   "source": [
    "<img src='banner.gif'/>"
   ]
  },
  {
   "cell_type": "markdown",
   "id": "369a8c80-7063-4877-9e99-0246a5a27f7f",
   "metadata": {},
   "source": [
    "<center>by <b>Paulo Mario P. Medina</b></center>\n",
    "<center>Machine Learning | MSDS 2024 | Asian Institute of Management</center>\n",
    "<center>Submitted 9 December 2023</center>"
   ]
  },
  {
   "cell_type": "markdown",
   "id": "102426a3-7096-4854-8333-895510e4e4d3",
   "metadata": {
    "execution": {
     "iopub.execute_input": "2023-12-08T08:43:31.602742Z",
     "iopub.status.busy": "2023-12-08T08:43:31.602041Z",
     "iopub.status.idle": "2023-12-08T08:43:31.613491Z",
     "shell.execute_reply": "2023-12-08T08:43:31.611358Z",
     "shell.execute_reply.started": "2023-12-08T08:43:31.602682Z"
    },
    "tags": []
   },
   "source": [
    "<a id='Libraries'></a>\n",
    "<h1 style=\"color:#ffffff; background-color:#000000; border: 1px solid #ffffff; padding: 10px 10px 10px 10px;\"><b>IMPORT LIBRARIES AND FUNCTIONS</b></h1>"
   ]
  },
  {
   "cell_type": "code",
   "execution_count": 4,
   "id": "1589396d-4bef-4a2d-8a1c-1032194c02ab",
   "metadata": {
    "execution": {
     "iopub.execute_input": "2023-12-09T18:55:39.644509Z",
     "iopub.status.busy": "2023-12-09T18:55:39.643470Z",
     "iopub.status.idle": "2023-12-09T18:55:41.197024Z",
     "shell.execute_reply": "2023-12-09T18:55:41.195284Z",
     "shell.execute_reply.started": "2023-12-09T18:55:39.644454Z"
    },
    "tags": []
   },
   "outputs": [],
   "source": [
    "import numpy as np\n",
    "import cv_helpers\n",
    "import cv2 as cv\n",
    "import matplotlib.pyplot as plt\n",
    "from sklearn.metrics import silhouette_score\n",
    "import warnings\n",
    "import importlib\n",
    "importlib.reload(cv_helpers)\n",
    "from sklearn.svm import SVC\n",
    "from sklearn.neighbors import KNeighborsClassifier\n",
    "from sklearn.linear_model import LogisticRegression\n",
    "from sklearn.ensemble import RandomForestClassifier, GradientBoostingClassifier\n",
    "from sklearn.preprocessing import StandardScaler\n",
    "import pandas as pd\n",
    "from sklearn.metrics import confusion_matrix, ConfusionMatrixDisplay\n",
    "from sklearn.metrics import classification_report\n",
    "from sklearn import metrics\n",
    "import ipywidgets as widgets"
   ]
  },
  {
   "cell_type": "markdown",
   "id": "2d6e07ce-4acc-4fa6-9194-81b5874ecb0e",
   "metadata": {},
   "source": [
    "<h2>Import Libraries and Functions</h2>\n",
    "<p>The following libraries and functions were imported:</p>\n",
    "<ul>\n",
    "    <li><b>numpy</b> for operations and functions involving arrays</li>\n",
    "    <li><b>cv_helpers</b> for the creator-defined functions, which are heavily involved in image processing</li>\n",
    "    <li><b>matplotlib's pyplot</b> for plotting visualizations</li>\n",
    "    <li><b>sklearn's silhouette_score</b> for calculating the silhouette scores and using these to get the optimal number for k in k-means clustering</li>\n",
    "    <li><b>IPython</b> for display and HTML purposes</li>\n",
    "    <li><b>warnings</b> for filtering irrelevant warnings in the notebook</li>\n",
    "    <li><b>sklearn's StandardScaler</b> for scaling purposes in the ML pipeline</li>\n",
    "    <li><b>pandas</b> for handling dataframes from GridSearchCV</li>\n",
    "    <li><b>sklearn's metrics</b> for calculating the metrics of the chosen model</li>\n",
    "    <li><b>sklearn's ML models (SVC, e.g.)</b> for acquiring test scores and accuracies</li>\n",
    "    <li><b>importlib</b> for re-importing the helpers file</li>\n",
    "</ul>"
   ]
  },
  {
   "cell_type": "markdown",
   "id": "8a48d478-1b45-4a32-8068-01c4c3eb4891",
   "metadata": {},
   "source": [
    "<p>The following libraries and functions were imported in <b>cv_helpers</b>:</p>\n",
    "<ul>\n",
    "    <li><b>opencv</b> for operations and functions involved in image processing</li>\n",
    "    <li><b>numpy</b> for operations and functions involving arrays</li>\n",
    "    <li><b>sklearn's Kmeans and MiniBatchKMeans</b> for predicting the clusters for each image feature and for acquiring the inertia of the k-means clusters created</li>\n",
    "    <li><b>sklearn's StandardScaler</b> for scaling the values of the image features and scaling the bag-of-visual-words derived from the frequencies of each cluster for each image</li>\n",
    "    <li><b>matplotlib's pyplot</b> for plotting visualizations</li>\n",
    "    <li><b>OS</b> for easier representation, viewing, and access of the files in the directory</li>\n",
    "    <li><b>random</b> for picking a random image to predict from the chest x-ray directory</li>\n",
    "    <li><b>sklearn's train_test_split</b> for splitting the original training set into training and validation sets</li>\n",
    "    <li><b>sklearn's ML models (SVC, e.g.)</b> for creating machine learning models</li>\n",
    "    <li><b>IPython</b> for prettified dataframe display purposes</li>\n",
    "</ul>"
   ]
  },
  {
   "cell_type": "markdown",
   "id": "c0f7bc38-4697-4c60-b6eb-719ccb704cfe",
   "metadata": {},
   "source": [
    "<a id='TOC'></a>\n",
    "<h1 style=\"color:#ffffff; background-color:#000000; border: 1px solid #ffffff; padding: 10px 10px 10px 10px;\"><b>TABLE OF CONTENTS</b></h1>"
   ]
  },
  {
   "cell_type": "markdown",
   "id": "9b67752c-7b2e-4611-b509-4d3b1203e4bf",
   "metadata": {},
   "source": [
    "<h2>Table of Contents</h2>\n",
    "<p style='text-indent: 2em'><a href='#Problem' style='color: #000000'>I. Problem Description</a></p>\n",
    "<p style='text-indent: 2em'><a href='#Highlights' style='color: #000000'>II. Key Highlights</a></p>\n",
    "<p style='text-indent: 2em'><a href='#Description' style='color: #000000'>III. Data Source</a></p>\n",
    "<p style='text-indent: 2em'><a href='#Scope' style='color: #000000'>IV. Scope and Limitation</a></p>\n",
    "<p style='text-indent: 2em'><a href='#Cleaning' style='color: #000000'>V. Data Cleaning and Exploration</a></p>\n",
    "<p style='text-indent: 2em'><a href='#Preprocessing' style='color: #000000'>VI. Data Preprocessing</a></p>\n",
    "<p style='text-indent: 2em'><a href='#Pipeline' style='color: #000000'>VII. Machine Learning Pipeline</a></p>\n",
    "<p style='text-indent: 2em'><a href='#Results' style='color: #000000'>VIII. Results and Discussion</a></p>\n",
    "<p style='text-indent: 2em'><a href='#Conclusion' style='color: #000000'>IX. Conclusion</a></p>\n",
    "<p style='text-indent: 2em'><a href='#Recommendations' style='color: #000000'>X. Recommendations</a></p>\n",
    "<p style='text-indent: 2em'><a href='#References' style='color: #000000'>References</a></p>"
   ]
  },
  {
   "cell_type": "markdown",
   "id": "588c7559-8228-428c-88c1-8be90f165f58",
   "metadata": {},
   "source": [
    "<a id='Problem'></a>\n",
    "<h1 style=\"color:#ffffff; background-color:#000000; border: 1px solid #ffffff; padding: 10px 10px 10px 10px;\"><b>I. PROBLEM DESCRIPTION</b></h1>"
   ]
  },
  {
   "cell_type": "markdown",
   "id": "d5d099dc-163d-4998-93e3-653cbc42c8b5",
   "metadata": {},
   "source": [
    "<h2>Problem Overview</h2>\n",
    "<p style='text-indent: 2em'>Clinically, pneumonia is a very common, lower respiratory infection (LRI) or disease which causes symptoms such as cough, sputum production (mucus from the lower airways), chest pain, fever, and confusion.<sup><a href='#One'>1</a></sup> Epidemiologically, pneumonia is known to contribute to a high disease burden, where disease burden is the \"impact of a health problem on a given population, measured using indicators such as mortality, morbidity, and financial costs\"<sup><a href='#One'>1,2</a></sup>. This is linked to how according to the Global Burden of Disease Study 2015, given that LRIs were the \"leading infectious cause of death and the fifth leading cause of death overall\", pneumococcal pneumonia, a type of bacterial pneumonia, caused 55% of these deaths in all ages, which is approximately 1.5 million deaths. Hence, until now, it still is a health problem faced worldwide, even in high-income countries such as the USA.<sup><a href='#One'>1</a></sup></p>\n",
    "\n",
    "<p style='text-indent: 2em'>In fact, in relation to what was said about it being a worldwide problem, there is a recent surge in pneumonia, particularly, pediatric mycoplasma pneumonia, a type of bacterial pneumnonia in children, in China and Denmark.<sup><a href='#Three'>3</a></sup> Given its contribution to global disease burden and given the recent surge in pneumonia cases, it is becoming more imperative to streamline the diagnosis of pneumonia especially among children. Moreover, another reason which supports the streamlining of pneumonia diagnosis is that one of the diagnostic tools for diagnosing pneumonia is chest radiography or chest x-rays (CXR) and that the turnaround time (TAT) or the time it takes for a radiologist to interpret a single chest radiograph is 15 minutes.<sup><a href='#One'>1,4</a></sup> Although 15 minutes by itself is a short time, in cases of surges, this is multiplied by the number of patients who arrive concurrently, and this further compounds the increasing workload of radiologists (where there is indeed an increasing trend found among US radiologists in 2006-2007).<sup><a href='#Five'>5</a></sup></p>\n",
    "\n",
    "<p style='text-indent: 2em'>Hence, this is where machine learning comes in. As posited by Diamant, et. al., incorporating bag-of-visual-word method (BoVW), a method for acquiring features from images, and support vector machine classifiers has been proven to be successful in medical image classification, where through this, cases suspected of pneumonia can be easily classified as normal or pneumonia cases.<sup><a href='#Six'>6</a></sup> This may be partly because x-ray images which are indicative of pneumonia contain white spots called infiltrates, which may serve as the defining features for pneumonia.<sup><a href='#Seven'>7</a></sup> In this study, however, while incorporating the BoVW method in acquiring the features of the radiographs, other classification models such as k-nearest neighbors classifier, logistic regression, random forest classifier, and gradient boosting classifier would be tested for their training, validation, and test accuracy. The best model based on the validation accuracy would then be evaluated using other metrics such as runtime, precision, recall, sensitivity, specificity, and the area under its receiver operating characteristic (ROC) curve.</p>\n",
    "\n",
    "<h2>Objectives</h2>\n",
    "<ol>\n",
    "    <li>Implement a machine learning pipeline which reads x-ray images, vectorizes and scales them, and predicts whether they are normal x-ray images or x-ray images showing signs of pneumonia.</li><br>\n",
    "    <li>Evaluate the machine learning model and discuss the implications of the results of the evaluation.</li><br>\n",
    "</ol>"
   ]
  },
  {
   "cell_type": "markdown",
   "id": "59084662-6eb1-44cb-a6f1-3cd4b493c65b",
   "metadata": {},
   "source": [
    "[Back to Table of Contents](#TOC)"
   ]
  },
  {
   "cell_type": "markdown",
   "id": "2a5e123b-f059-443d-b0f6-4533e71e36cc",
   "metadata": {},
   "source": [
    "<a id='Highlights'></a>\n",
    "<h1 style=\"color:#ffffff; background-color:#000000; border: 1px solid #ffffff; padding: 10px 10px 10px 10px;\"><b>II. KEY HIGHLIGHTS</b></h1>"
   ]
  },
  {
   "cell_type": "markdown",
   "id": "0c228c47-cc0d-4c66-8de4-3bb05ddac0e8",
   "metadata": {},
   "source": [
    "<ol>\n",
    "    <li>Using the BoVW method, the optimal number of \"visual words\" was found to be <b>seven</b>.</li><br>\n",
    "    <li>The SVC model (Sigmoid; C = 0.01) was most accurate in terms of <b>validation (0.80) and test accuracy (0.69)</b>.</li><br>\n",
    "    <li>The model is <b>slightly biased towards pneumonia cases</b> (Precision: 0.61:0.72) (Recall: 0.48:0.82).</li><br>\n",
    "    <li>This is supported by a <b>sensitivity:specificity of 0.82:0.48</b>, with more accuracy for positives.</li><br>\n",
    "    <li>With <b>ROC-AUC = 0.76</b>, the model is a good classifier, specifically, <b>a good screening tool</b>.</li><br>\n",
    "</ol>"
   ]
  },
  {
   "cell_type": "markdown",
   "id": "5d1f2987-aa1b-4c2f-867f-5671c03831c1",
   "metadata": {},
   "source": [
    "[Back to Table of Contents](#TOC)"
   ]
  },
  {
   "cell_type": "markdown",
   "id": "ccaf834e-19ef-4d23-b128-b262cb7cf005",
   "metadata": {},
   "source": [
    "<a id='Description'></a>\n",
    "<h1 style=\"color:#ffffff; background-color:#000000; border: 1px solid #ffffff; padding: 10px 10px 10px 10px;\"><b>III. DATA SOURCE</b></h1>"
   ]
  },
  {
   "cell_type": "markdown",
   "id": "24303f49-b739-498f-aa11-cc2ea01c76a1",
   "metadata": {},
   "source": [
    "<p style='text-indent: 2em'>The dataset was sourced from Kaggle from Paul Mooney.<sup><a href='#Eight'>8</a></sup> The dataset, which is aptly named as \"Chest X-Ray Images (Pneumonia)\" contains 5,863 X-Ray images (in JPEG format) and 2 categories (Pneumonia/Normal). According to the author of the Kaggle post, all chest radiographs were initially screened for quality control by not including the low quality and unreadable scans. The created diagnoses for each image were then graded by two expert physicians before being treated as cleared for AI system training. As a precautionary measure, the eavluation set was also checked by a third error, to account for any grading errors.<sup><a href='#Eight'>8</a></sup></p>\n",
    "\n",
    "<p style='text-indent: 2em'>The X-ray images are divided into three subdivisions such as the training, testing, and validation set. The training set originally contains 5,216 X-ray images where there are 1,341 normal X-ray images and 3,875 pneumonia X-ray images, while the testing set contains 624 X-ray images where there are 234 normal X-ray images and 390 pneumonia X-ray images. Lastly, the validation set contains 16 X-ray images, where each class (normal and pneumonia) has 8 X-ray images associated to it. Given the small sample for the validation set, these would be combined with the training set, and a 80-20 split for each class would be done on the training set to arrive at the final training and validation sets, respectively.</p>"
   ]
  },
  {
   "cell_type": "markdown",
   "id": "3dec696b-5581-4eab-9778-06dfeebd6b59",
   "metadata": {},
   "source": [
    "[Back to Table of Contents](#TOC)"
   ]
  },
  {
   "cell_type": "markdown",
   "id": "eca66ba1-1695-48b5-a6eb-42b59d76785b",
   "metadata": {},
   "source": [
    "<a id='Scope'></a>\n",
    "<h1 style=\"color:#ffffff; background-color:#000000; border: 1px solid #ffffff; padding: 10px 10px 10px 10px;\"><b>IV. SCOPE AND LIMITATION</b></h1>"
   ]
  },
  {
   "cell_type": "markdown",
   "id": "12b78940-3573-456e-8182-802bffe262ba",
   "metadata": {},
   "source": [
    "<h2>Scope</h2>\n",
    "\n",
    "<p style='text-indent: 2em'>According to Paul Mooney, the \"chest X-ray images (anterior-posterior) were selected from retrospective cohorts of pediatric patients of one to five years old from Guangzhou Women and Children’s Medical Center, Guangzhou\".<sup><a href='#Eight'>8</a></sup> This means that the resulting machine learning model would only be representative of Chinese pediatric patients particularly, aged one to five years old, and to be more stringent, from Guangzhou city.</p>\n",
    "\n",
    "<h2>Limitation</h2>\n",
    "\n",
    "<p style='text-indent: 2em'>This may mean that the model could not be used for patients of different age groups, different ethnicities and of different geographical origins, as the model is inherently biased to the aforementioned demographic.</p>"
   ]
  },
  {
   "cell_type": "markdown",
   "id": "cba32e29-ac9a-4167-92d2-b201c15120eb",
   "metadata": {},
   "source": [
    "[Back to Table of Contents](#TOC)"
   ]
  },
  {
   "cell_type": "markdown",
   "id": "ca0537f7-dbbf-4297-8113-7873f693fc99",
   "metadata": {},
   "source": [
    "<a id='Cleaning'></a>\n",
    "<h1 style=\"color:#ffffff; background-color:#000000; border: 1px solid #ffffff; padding: 10px 10px 10px 10px;\"><b>V. DATA CLEANING AND EXPLORATION</b></h1>"
   ]
  },
  {
   "cell_type": "markdown",
   "id": "f0a87007-afc6-4eca-bca1-9c888059a87f",
   "metadata": {},
   "source": [
    "<h2>Data Cleaning</h2>"
   ]
  },
  {
   "cell_type": "markdown",
   "id": "9d3f7e75-1210-447f-aa58-94d86c669ef4",
   "metadata": {},
   "source": [
    "<center><img src='no_features.jpeg'/></center>"
   ]
  },
  {
   "cell_type": "markdown",
   "id": "57372310-8f6f-421d-b1a8-61b32540a5af",
   "metadata": {},
   "source": [
    "<center><b>Figure 1.</b> Example of A Removed Image</center>"
   ]
  },
  {
   "cell_type": "markdown",
   "id": "33427343-a0e4-486c-9562-ca5e10a40150",
   "metadata": {},
   "source": [
    "<p style='text-indent: 2em'>Given an imbalanced training dataset where there are only 1,341 normal X-ray images and 3,875 pneumonia X-ray images, downsampling was employed to the pneumonia X-ray images, effectively reducing the 3,875 images to 1,341 images. This is in order to avoid introducing positive class bias to the model.<sup><a href='#Nine'>9</a></sup> As an aside, some of the images removed were the ones where no features was acquired; this is to preserve most of the integrity of the dataset, where only faulty or irrelevant images were removed and the more relevant or substantial images were kept. Lastly, even if these images were removed, each class still is comprised of at least 1,000 images, which is the rule-of-thumb set for image classification tasks.<sup><a href='#Ten'>10</a></sup></p>\n",
    "\n",
    "<h2>Data Exploration</h2>\n",
    "<p style='text-indent: 2em'>Given that the dataset is comprised of images, it would be better to explore the dataset by looking at the visual features of each image from each class.</p>\n"
   ]
  },
  {
   "cell_type": "markdown",
   "id": "7400a813-0dca-487c-a431-e244a44d78aa",
   "metadata": {
    "execution": {
     "iopub.execute_input": "2023-12-08T18:52:34.473351Z",
     "iopub.status.busy": "2023-12-08T18:52:34.472562Z",
     "iopub.status.idle": "2023-12-08T18:52:34.486373Z",
     "shell.execute_reply": "2023-12-08T18:52:34.484051Z",
     "shell.execute_reply.started": "2023-12-08T18:52:34.473273Z"
    },
    "tags": []
   },
   "source": [
    "<center><img src='chest_xrays/train/normal/IM-0115-0001.jpeg' height=300px width=300px/></center>"
   ]
  },
  {
   "cell_type": "markdown",
   "id": "624da3f6-f552-494a-a9ae-a15ebcb71100",
   "metadata": {},
   "source": [
    "<center><b>Figure 2.</b> Normal X-ray Training Image</center>"
   ]
  },
  {
   "cell_type": "markdown",
   "id": "dbed1047-4a19-44ca-8341-daba9f57d919",
   "metadata": {},
   "source": [
    "<p style='text-indent: 2em'>As seen in the image above, there are no signs of consolidations or infiltrates (white spots) in the lung area which mean that there are no signs of pneumonia in the training image above.</p>"
   ]
  },
  {
   "cell_type": "markdown",
   "id": "4cfa0d0f-61d3-450e-81ee-4c477867a731",
   "metadata": {
    "execution": {
     "iopub.execute_input": "2023-12-08T18:58:57.197669Z",
     "iopub.status.busy": "2023-12-08T18:58:57.196071Z",
     "iopub.status.idle": "2023-12-08T18:58:57.210917Z",
     "shell.execute_reply": "2023-12-08T18:58:57.207917Z",
     "shell.execute_reply.started": "2023-12-08T18:58:57.197569Z"
    },
    "tags": []
   },
   "source": [
    "<center><img src='chest_xrays/train/pneumonia/person319_bacteria_1477.jpeg' height=300px width=300px/></center>"
   ]
  },
  {
   "cell_type": "markdown",
   "id": "202f8cf6-f77a-4e2c-a65d-90de75664446",
   "metadata": {},
   "source": [
    "<center><b>Figure 3.</b> Pneumonia X-ray Training Image</center>"
   ]
  },
  {
   "cell_type": "markdown",
   "id": "c37e0f0a-4adb-4b36-8e4f-9317ed7a7d6a",
   "metadata": {},
   "source": [
    "<p style='text-indent: 2em'>As seen in the image above, there are signs of consolidations or infiltrates (white spots) in the lung area which mean that there is a collection of pus in the lungs.<sup><a href='#Eleven'>11</a></sup> As seen in the previous image, instead of the dark-grayish color in the lung area, there are solid parts which are white in color, suggesting that other particles which are more dense (which get projected as white in the X-ray image) than the usual air particles in the lungs are present.<sup><a href='#Twelve'>12</a></sup></p>"
   ]
  },
  {
   "cell_type": "markdown",
   "id": "6861f926-a5fa-462e-909a-356e79cd8ece",
   "metadata": {},
   "source": [
    "<p style='text-indent: 2em'>Hence, what could be gleaned from this small-scale exploratory data analysis is that instead of focusing solely on increasing the contrast as to separate the white parts from the dark parts (where there may be a problem with doing this as the bones themselves are also white and may be taken for as pneumonia infiltrates), acquiring the edges or corners of these white spots which are vastly different from the edges and corners of the body would be the better focus during image preprocessing.</p>"
   ]
  },
  {
   "cell_type": "markdown",
   "id": "45d542fe-1357-4a27-bd46-9db668fee546",
   "metadata": {},
   "source": [
    "[Back to Table of Contents](#TOC)"
   ]
  },
  {
   "cell_type": "markdown",
   "id": "f5aa850b-3956-43c5-a9d5-53ae421ba8b6",
   "metadata": {},
   "source": [
    "<a id='Preprocessing'></a>\n",
    "<h1 style=\"color:#ffffff; background-color:#000000; border: 1px solid #ffffff; padding: 10px 10px 10px 10px;\"><b>VI. DATA PREPROCESSING</b></h1>"
   ]
  },
  {
   "cell_type": "markdown",
   "id": "5aa6a62d-1d8e-44cd-b6e6-ae56f11c44af",
   "metadata": {},
   "source": [
    "<h2>Loading and Preprocessing the Images</h2>"
   ]
  },
  {
   "cell_type": "markdown",
   "id": "37e5f8ca-223c-4f03-8861-9137b9744d33",
   "metadata": {},
   "source": [
    "<p style='text-indent: 2em'>Before fitting the model, the images would be first loaded and preprocessed using the <mark style='background-color: #EEEEEE'>import_and_derive_features</mark> function from the cv_helpers library.</p>"
   ]
  },
  {
   "cell_type": "code",
   "execution_count": 5,
   "id": "c80f9e02-7bc3-42e3-9a68-0ca50a68c60c",
   "metadata": {
    "execution": {
     "iopub.execute_input": "2023-12-09T18:55:41.198335Z",
     "iopub.status.busy": "2023-12-09T18:55:41.198034Z",
     "iopub.status.idle": "2023-12-09T18:57:21.738756Z",
     "shell.execute_reply": "2023-12-09T18:57:21.736599Z",
     "shell.execute_reply.started": "2023-12-09T18:55:41.198315Z"
    },
    "tags": []
   },
   "outputs": [],
   "source": [
    "# Acquiring features from the normal X-ray images in the training set\n",
    "lst_train_normal = cv_helpers.import_and_derive_features('train', 'normal')"
   ]
  },
  {
   "cell_type": "code",
   "execution_count": 6,
   "id": "7fcf66fb-05d2-43e5-8b64-8830e7813519",
   "metadata": {
    "execution": {
     "iopub.execute_input": "2023-12-09T18:57:21.740833Z",
     "iopub.status.busy": "2023-12-09T18:57:21.740437Z",
     "iopub.status.idle": "2023-12-09T18:58:47.413387Z",
     "shell.execute_reply": "2023-12-09T18:58:47.410323Z",
     "shell.execute_reply.started": "2023-12-09T18:57:21.740801Z"
    },
    "tags": []
   },
   "outputs": [],
   "source": [
    "# Acquiring features from the pneumonia X-ray images in the training set\n",
    "lst_train_pneu = cv_helpers.import_and_derive_features('train', 'pneumonia')"
   ]
  },
  {
   "cell_type": "code",
   "execution_count": 7,
   "id": "a4bf5bc2-c3cf-474e-97f8-78e635ee5b5a",
   "metadata": {
    "execution": {
     "iopub.execute_input": "2023-12-09T18:58:47.417544Z",
     "iopub.status.busy": "2023-12-09T18:58:47.416856Z",
     "iopub.status.idle": "2023-12-09T18:58:47.964405Z",
     "shell.execute_reply": "2023-12-09T18:58:47.962392Z",
     "shell.execute_reply.started": "2023-12-09T18:58:47.417481Z"
    },
    "tags": []
   },
   "outputs": [],
   "source": [
    "# Acquiring features from the normal X-ray images in the validation set\n",
    "lst_val_normal = cv_helpers.import_and_derive_features('val', 'normal')"
   ]
  },
  {
   "cell_type": "code",
   "execution_count": 8,
   "id": "8acc832b-e4ed-4e57-9fed-0da4bd34ea8d",
   "metadata": {
    "execution": {
     "iopub.execute_input": "2023-12-09T18:58:47.967434Z",
     "iopub.status.busy": "2023-12-09T18:58:47.966783Z",
     "iopub.status.idle": "2023-12-09T18:58:48.441939Z",
     "shell.execute_reply": "2023-12-09T18:58:48.439922Z",
     "shell.execute_reply.started": "2023-12-09T18:58:47.967374Z"
    },
    "tags": []
   },
   "outputs": [],
   "source": [
    "# Acquiring features from the pneumonia X-ray images in the validation set\n",
    "lst_val_pneu = cv_helpers.import_and_derive_features('val', 'pneumonia')"
   ]
  },
  {
   "cell_type": "code",
   "execution_count": 9,
   "id": "d6915ab9-42f8-48e4-9196-4abcc0a765a1",
   "metadata": {
    "execution": {
     "iopub.execute_input": "2023-12-09T18:58:48.445006Z",
     "iopub.status.busy": "2023-12-09T18:58:48.444266Z",
     "iopub.status.idle": "2023-12-09T18:59:05.251438Z",
     "shell.execute_reply": "2023-12-09T18:59:05.248434Z",
     "shell.execute_reply.started": "2023-12-09T18:58:48.444943Z"
    },
    "tags": []
   },
   "outputs": [],
   "source": [
    "# Acquiring features from the normal X-ray images in the test set\n",
    "lst_test_normal = cv_helpers.import_and_derive_features('test', 'normal')"
   ]
  },
  {
   "cell_type": "code",
   "execution_count": 10,
   "id": "926cf4ed-2480-45a5-905b-c56b8b007ae4",
   "metadata": {
    "execution": {
     "iopub.execute_input": "2023-12-09T18:59:05.263491Z",
     "iopub.status.busy": "2023-12-09T18:59:05.262876Z",
     "iopub.status.idle": "2023-12-09T18:59:29.417688Z",
     "shell.execute_reply": "2023-12-09T18:59:29.415478Z",
     "shell.execute_reply.started": "2023-12-09T18:59:05.263445Z"
    },
    "tags": []
   },
   "outputs": [],
   "source": [
    "# Acquiring features from the pneumonia X-ray images in the test set\n",
    "lst_test_pneu = cv_helpers.import_and_derive_features('test', 'pneumonia')"
   ]
  },
  {
   "cell_type": "markdown",
   "id": "8c1abe06-e565-48e0-aa52-18d2f1d75835",
   "metadata": {},
   "source": [
    "<p style='text-indent: 2em'>In order to understand the full preprocessing of the image, each step of the <mark style='background-color: #EEEEEE'>import_and_derive_features</mark> would be described in full visual and mathematical detail.</p>"
   ]
  },
  {
   "cell_type": "markdown",
   "id": "7c90e1ba-2ec0-49aa-9cd3-b1aabb2ffbda",
   "metadata": {
    "execution": {
     "iopub.execute_input": "2023-12-08T20:47:16.456564Z",
     "iopub.status.busy": "2023-12-08T20:47:16.455751Z",
     "iopub.status.idle": "2023-12-08T20:47:16.467045Z",
     "shell.execute_reply": "2023-12-08T20:47:16.465075Z",
     "shell.execute_reply.started": "2023-12-08T20:47:16.456498Z"
    },
    "tags": []
   },
   "source": [
    "<center><img src='original.jpeg' height=300px width=300px/></center>"
   ]
  },
  {
   "cell_type": "markdown",
   "id": "32d693a8-0fc5-4e9b-935e-40c92f58c5fe",
   "metadata": {},
   "source": [
    "<center><b>Figure 4.</b> Original X-ray Image</center>"
   ]
  },
  {
   "cell_type": "markdown",
   "id": "522fe1fc-4237-456c-befe-9a4529cc4822",
   "metadata": {},
   "source": [
    "<p style='text-indent: 2em'>The image is first loaded using the <mark style='background-color: #EEEEEE'>imread</mark> function of OpenCV, where the image is saved as a numpy array, corresponding to the blue, green, and red values of each pixel in the image.<sup><a href='#Thirteen'>13</a></sup></p>"
   ]
  },
  {
   "cell_type": "markdown",
   "id": "68e474ab-042c-4fc7-b98c-b930649082b9",
   "metadata": {},
   "source": [
    "<center><img src='filter_one.jpg' height=300px width=300px/></center>"
   ]
  },
  {
   "cell_type": "markdown",
   "id": "9e2534ea-7cb7-490d-af40-083c360c3a3f",
   "metadata": {},
   "source": [
    "<center><b>Figure 5.</b> Resized X-ray Image</center>"
   ]
  },
  {
   "cell_type": "markdown",
   "id": "5bfda431-82c9-4115-9c9b-db9ab58da1b1",
   "metadata": {},
   "source": [
    "<p style='text-indent: 2em'>The created array is then resized to a 256 by 256 array, wherein smaller images which are increased in size makes use of interpolation for the new pixels while larger images which are decreased in size resample the pixels, in an effort to lessen the pixels.<sup><a href='#Fourteen'>14</a></sup> This is in order to match the sizes for all images and to reduce potential computational complexity for some images which are larger than the set dimensions.</p>"
   ]
  },
  {
   "cell_type": "markdown",
   "id": "ba169ad6-8edc-43bc-ab29-dbb6d0d47a98",
   "metadata": {
    "execution": {
     "iopub.execute_input": "2023-12-08T20:15:39.924475Z",
     "iopub.status.busy": "2023-12-08T20:15:39.923661Z",
     "iopub.status.idle": "2023-12-08T20:15:39.935314Z",
     "shell.execute_reply": "2023-12-08T20:15:39.933101Z",
     "shell.execute_reply.started": "2023-12-08T20:15:39.924410Z"
    },
    "tags": []
   },
   "source": [
    "<center><img src='filter_two.jpg' height=300px width=300px/></center>"
   ]
  },
  {
   "cell_type": "markdown",
   "id": "66ec5ca7-73fd-4b75-b53b-84056b54a75d",
   "metadata": {},
   "source": [
    "<center><b>Figure 6.</b> Same X-ray Image with Gaussian Filtering</center>"
   ]
  },
  {
   "cell_type": "markdown",
   "id": "1c747558-038f-4c67-b214-aee8c01e0b44",
   "metadata": {},
   "source": [
    "<p style='text-indent: 2em'>Using Gaussian filtering, the noise and irrelevant details in the image are reduced, allowing the relevant white spots or infiltrates to surface more in the image. As stated by Fisher, Perkins, Walker, and Wolfart, the Gaussian filter \"outputs a weighted average of each pixel's neighborhood\", where more weight is given the pixels near the center.<sup><a href='#Fifteen'>15</a></sup> This then smoothens the image, given that each pixel is now a weighted average of its neighboring pixels.</p> "
   ]
  },
  {
   "cell_type": "markdown",
   "id": "c088ad5d-4f5d-4eb9-a5f1-c7a429fbec53",
   "metadata": {
    "execution": {
     "iopub.execute_input": "2023-12-08T20:48:40.613528Z",
     "iopub.status.busy": "2023-12-08T20:48:40.612755Z",
     "iopub.status.idle": "2023-12-08T20:48:40.625701Z",
     "shell.execute_reply": "2023-12-08T20:48:40.623713Z",
     "shell.execute_reply.started": "2023-12-08T20:48:40.613463Z"
    },
    "tags": []
   },
   "source": [
    "<center><img src='filter_three.jpg' height=300px width=300px/></center>"
   ]
  },
  {
   "cell_type": "markdown",
   "id": "4b225596-8528-440e-ad3f-557d0c319f90",
   "metadata": {},
   "source": [
    "<center><b>Figure 7.</b> Grayscaled X-ray Image</center>"
   ]
  },
  {
   "cell_type": "markdown",
   "id": "064a92b3-ba87-4615-b33f-9931b41bbff1",
   "metadata": {},
   "source": [
    "<p style='text-indent: 2em'>Although it is not obvious, the X-ray image was grayscaled, or its RGB channels was changed to solely a gray channel.<sup><a href='#Sixteen'>16</a></sup> This allows for less computational complexity and easier processing of the image in the machine learning algorithms, given the smaller dimension or shape in the resulting image. The formula for finding the gray value from a RGB-based image is as follows:</p>\n",
    "\n",
    "<center>$Y = (0.299⋅R) + (0.587⋅G) + (0.114⋅B)$<sup><a href='#Sixteen'>16</a></sup></center><br>\n",
    "    \n",
    "<p style='text-indent: 2em'>where Y is the gray value, R is the red value, G is the green value, and B is the blue value.</p>"
   ]
  },
  {
   "cell_type": "markdown",
   "id": "1733daf6-b049-41ad-8bf7-d9796465decc",
   "metadata": {},
   "source": [
    "<center><img src='filter_four.jpg' height=300px width=300px/></center>"
   ]
  },
  {
   "cell_type": "markdown",
   "id": "a5aab661-e61b-4078-a5fa-f623a4070b1d",
   "metadata": {},
   "source": [
    "<center><b>Figure 8.</b> Same X-ray Image with Equalized Histogram</center>"
   ]
  },
  {
   "cell_type": "markdown",
   "id": "31a1d70c-b6a0-495b-b218-9189b58de4de",
   "metadata": {},
   "source": [
    "<p style='text-indent: 2em'>Moving on, in order to understand the effects of equalizing an image histogram, it would be important to first define what an image histogram is. An image histogram is \"a graphical representation of the intensity distribution of an image\"; the frequency of pixels for a given intensity value populates this histogram.<sup><a href='#Seventeen'>17</a></sup> By equalizing this histogram, the goal is to stretch out this histogram so that other intensity values are also \"equally\" populated as the other intensity values, instead of having only few intensity values be densely populated.<sup><a href='#Seventeen'>17</a></sup> This then increases the contrast of the image, allowing for easier differentiation of the corners or edges in the picture, which would be most important in the feature (edge or corner) detection phase of the data preprocessing."
   ]
  },
  {
   "cell_type": "code",
   "execution_count": 11,
   "id": "279fcb84-b435-4286-9946-89d1b5c48d4b",
   "metadata": {
    "execution": {
     "iopub.execute_input": "2023-12-09T18:59:29.420491Z",
     "iopub.status.busy": "2023-12-09T18:59:29.419950Z",
     "iopub.status.idle": "2023-12-09T18:59:30.244875Z",
     "shell.execute_reply": "2023-12-09T18:59:30.243234Z",
     "shell.execute_reply.started": "2023-12-09T18:59:29.420444Z"
    },
    "tags": []
   },
   "outputs": [],
   "source": [
    "%%capture\n",
    "# Code for getting the histograms\n",
    "# Plot the before and after histograms side-by-side\n",
    "before, after = cv_helpers.plot_before_after()\n",
    "fig, axs = plt.subplots(1, 2)\n",
    "axs[0].hist(before.ravel(), 256, [0, 256], color=\"black\")\n",
    "axs[0].set_title(\"Before Equalizing the Histogram\")\n",
    "axs[0].set_xlabel(\"Pixel Gray Intensity\")\n",
    "axs[0].set_ylabel(\"Frequency\")\n",
    "axs[1].hist(after.ravel(), 256, [0, 256], color=\"black\")\n",
    "axs[1].set_title(\"After Equalizing the Histogram\")\n",
    "axs[1].set_xlabel(\"Pixel Gray Intensity\")\n",
    "axs[1].set_ylabel(\"Frequency\")\n",
    "fig.tight_layout()\n",
    "plt.show()"
   ]
  },
  {
   "cell_type": "markdown",
   "id": "3afd827f-0a76-428a-b6fe-20ad54921a78",
   "metadata": {
    "execution": {
     "iopub.execute_input": "2023-12-08T21:19:29.522933Z",
     "iopub.status.busy": "2023-12-08T21:19:29.521507Z",
     "iopub.status.idle": "2023-12-08T21:19:29.533821Z",
     "shell.execute_reply": "2023-12-08T21:19:29.531546Z",
     "shell.execute_reply.started": "2023-12-08T21:19:29.522859Z"
    },
    "tags": []
   },
   "source": [
    "<center><img src='histograms.png'/></center>"
   ]
  },
  {
   "cell_type": "markdown",
   "id": "a252632f-5dec-4d5d-be69-502198d081fe",
   "metadata": {},
   "source": [
    "<center><b>Figure 9.</b> Before and After Equalizing the Histogram</center>"
   ]
  },
  {
   "cell_type": "markdown",
   "id": "d5c1cf1e-9e5a-4bc3-ac10-c09dfe061c12",
   "metadata": {},
   "source": [
    "<p style='text-indent: 2em'>As one can see above, the histogram is \"equalized\" by spreading or widening the histogram to accomodate the other intensity levels, thereby increasing the contrast or variance in intensity levels among the pixels, instead of concentrating most of them at around 200.<sup><a href='#Eighteen'>18</a></sup>"
   ]
  },
  {
   "cell_type": "markdown",
   "id": "e9c09249-4f9e-4e05-9702-0169963856d4",
   "metadata": {},
   "source": [
    "<center><img src='filter_five.jpg' height=300px width=300px/></center>"
   ]
  },
  {
   "cell_type": "markdown",
   "id": "28077fed-9e2f-473a-8844-ec90a653486d",
   "metadata": {},
   "source": [
    "<center><b>Figure 10.</b> X-ray Image After Using Laplace Operator</center>"
   ]
  },
  {
   "cell_type": "markdown",
   "id": "d63f3bd7-647b-4dae-a5e5-9775361ac4f2",
   "metadata": {},
   "source": [
    "<p style='text-indent: 2em'>The Laplace Operator is used to detect the edges of the image, by finding the second derivatives, equal to zero, in both horizontal and vertical gradients of each pixel of an image (which may only be found in local maximal first derivatives, which is used in Sobel Operators).<sup><a href='#Nineteen'>19</a></sup> The reason why derivatives are associated with these operators is because the edges or corners, the most salient and identifying features of an image, are characterized by high changes or differences in pixel intensity, which can only be described by a local maximal first derivative or a second derivative equal to zero.<sup><a href='#Nineteen'>19</a></sup> Moving on, using the Laplace Operator, the Laplacian of a pixel can be calculated, which is derived from its local neighbors (both horizontal and vertical), and through a set threshold for the Laplacian, the pixel can then be mapped as either white or black, hence signifying the edges of the image.<sup><a href='#Twenty'>20</a></sup></p>"
   ]
  },
  {
   "cell_type": "markdown",
   "id": "2aad5dbf-f19b-4721-b911-ef05c7189a0d",
   "metadata": {},
   "source": [
    "<center><img src='filter_six.jpg' height=300px width=300px/></center>"
   ]
  },
  {
   "cell_type": "markdown",
   "id": "96eef445-27ac-4293-af1d-68b543079079",
   "metadata": {},
   "source": [
    "<center><b>Figure 11.</b> 8-bit X-ray Image</center>"
   ]
  },
  {
   "cell_type": "markdown",
   "id": "78fb594c-0660-4ac5-80d7-8e1636e15e4d",
   "metadata": {},
   "source": [
    "<p style='text-indent: 2em'>Using the <mark style='background-color: #EEEEEE'>convertScaleAbs</mark> function from the OpenCV library, the image is converted to 8-bit, leading to less needed processing power and computational complexity.<sup><a href='#Twenty-one'>21</a></sup></p>"
   ]
  },
  {
   "cell_type": "code",
   "execution_count": 12,
   "id": "c723abb3-d7d9-4515-87e7-6a9efa3a11fc",
   "metadata": {
    "execution": {
     "iopub.execute_input": "2023-12-09T18:59:30.246623Z",
     "iopub.status.busy": "2023-12-09T18:59:30.246396Z",
     "iopub.status.idle": "2023-12-09T18:59:30.252131Z",
     "shell.execute_reply": "2023-12-09T18:59:30.250652Z",
     "shell.execute_reply.started": "2023-12-09T18:59:30.246605Z"
    },
    "tags": []
   },
   "outputs": [],
   "source": [
    "count_train = 2158"
   ]
  },
  {
   "cell_type": "code",
   "execution_count": 13,
   "id": "b1738042-43a8-4aa0-8de5-af1ad07e47bb",
   "metadata": {
    "execution": {
     "iopub.execute_input": "2023-12-09T18:59:30.253766Z",
     "iopub.status.busy": "2023-12-09T18:59:30.253521Z",
     "iopub.status.idle": "2023-12-09T18:59:30.259488Z",
     "shell.execute_reply": "2023-12-09T18:59:30.257604Z",
     "shell.execute_reply.started": "2023-12-09T18:59:30.253745Z"
    },
    "tags": []
   },
   "outputs": [],
   "source": [
    "count_val = 540"
   ]
  },
  {
   "cell_type": "code",
   "execution_count": 14,
   "id": "41553f39-a5ec-4d03-91d4-2439b7e7f3d3",
   "metadata": {
    "execution": {
     "iopub.execute_input": "2023-12-09T18:59:30.263219Z",
     "iopub.status.busy": "2023-12-09T18:59:30.261908Z",
     "iopub.status.idle": "2023-12-09T18:59:30.270674Z",
     "shell.execute_reply": "2023-12-09T18:59:30.268660Z",
     "shell.execute_reply.started": "2023-12-09T18:59:30.263158Z"
    },
    "tags": []
   },
   "outputs": [],
   "source": [
    "count_test = lst_test_normal[0] + lst_test_pneu[0]"
   ]
  },
  {
   "cell_type": "markdown",
   "id": "9c88b196-b02c-4173-b5e6-098c1fed2dd2",
   "metadata": {
    "execution": {
     "iopub.execute_input": "2023-12-08T22:09:10.127036Z",
     "iopub.status.busy": "2023-12-08T22:09:10.126310Z",
     "iopub.status.idle": "2023-12-08T22:09:10.140209Z",
     "shell.execute_reply": "2023-12-08T22:09:10.137411Z",
     "shell.execute_reply.started": "2023-12-08T22:09:10.126974Z"
    },
    "tags": []
   },
   "source": [
    "<p style='text-indent: 2em'>After doing these for every image, the count of each set of images would then be saved in variables for the BoVW part of the study, where the count of the \"validation\" is set at 540 (20% of 2,698) while the count of the training set is set at 2,158 (80% of 2,698). Moving on, using the Scale Invariant Feature Transform (SIFT) algorithm, as stated in its name, keypoints (relating to corners of the image) can be detected, regardless of scale, which is very important in processing images such as pneumonia X-ray images which contain white spots which vary in scale or size.<sup><a href='#Twenty-two'>22</a></sup></p>\n",
    "\n",
    "<p style='text-indent: 2em'>Moreover, by identifying the orientation of these keypoints through the highest magnitudes in the 36-bin orientation histogram (covering all possible directions) formed from the local neighborhood of the keypoint, the rotation or orientation of these keypoints can be effectively \"normalized\", as to make it rotation-invariant or fixed regardless of any forms of rotation.<sup><a href='#Twenty-three'>23</a></sup></p>\n",
    "\n",
    "<p style='text-indent: 2em'>Lastly, to provide a descriptor for each feature, by forming a 16x16 local neighborhood around the keypoint (where there are 16 sub-blocks of 4x4 size), an 8-bin histogram (which consists of eight directions) for each sub-block constituting the sum of magnitudes of the orientation of each \"sub-sub-block\" is created.<sup><a href='#Twenty-three'>23</a></sup> Given that there are 8-bin histograms for all 16 sub-blocks, all of these 8-bin histograms would be appended into one horizontal vector, which would then result to having 128 elements all-in-all.<sup><a href='#Twenty-three'>23</a></sup></p>"
   ]
  },
  {
   "cell_type": "markdown",
   "id": "8dbc600a-e5e6-494d-8709-d13b20055b1e",
   "metadata": {},
   "source": [
    "<center><img src='neighbors.webp' height=500px width=500px/></center>"
   ]
  },
  {
   "cell_type": "markdown",
   "id": "890c6b7e-0926-47a5-b205-8bcd21e34ac5",
   "metadata": {},
   "source": [
    "<center><b>Figure 12.</b> SIFT Descriptors<sup><a href='#Twenty-three'>23</a></sup></center>"
   ]
  },
  {
   "cell_type": "markdown",
   "id": "c022bd01-b2ef-4888-ab3c-b8b18fc574d1",
   "metadata": {},
   "source": [
    "<p style='text-indent: 2em'>As seen above, there is a 16x16 neighborhood created from the keypoint, and each neighbor or 4x4 sub-block are represented by an 8-bin histogram, hence constituting in the end, a 128-element vector (based on 4x4x8 directions).</p>"
   ]
  },
  {
   "cell_type": "markdown",
   "id": "d1e6c060-ebf0-4f27-b0b4-174e5c5bc489",
   "metadata": {},
   "source": [
    "<center><img src='filter_seven.jpg' height=300px width=300px/></center>"
   ]
  },
  {
   "cell_type": "markdown",
   "id": "a51bff95-7715-47d2-a432-8e0904bdff2c",
   "metadata": {},
   "source": [
    "<center><b>Figure 13.</b> X-ray Image with Keypoint Descriptors</center>"
   ]
  },
  {
   "cell_type": "markdown",
   "id": "f5f78661-1313-4ba9-8814-4a627b566bef",
   "metadata": {},
   "source": [
    "<p style='text-indent: 2em'>As seen above, the corners of the image were treated as keypoints (the circles) which differ in size (area of circle) and orientation (which is denoted by the line crossing half of the circle).</p>"
   ]
  },
  {
   "cell_type": "markdown",
   "id": "4e8c0c16-b123-46cf-aca0-bbf0219ee2e4",
   "metadata": {},
   "source": [
    "<h2>Creating a Bag-of-Visual-Words From The Keypoint Descriptors</h2>"
   ]
  },
  {
   "cell_type": "code",
   "execution_count": 15,
   "id": "1d2579a8-32bb-4016-8017-95a9ac0525ca",
   "metadata": {
    "execution": {
     "iopub.execute_input": "2023-12-09T18:59:30.273414Z",
     "iopub.status.busy": "2023-12-09T18:59:30.272834Z",
     "iopub.status.idle": "2023-12-09T18:59:30.281680Z",
     "shell.execute_reply": "2023-12-09T18:59:30.279731Z",
     "shell.execute_reply.started": "2023-12-09T18:59:30.273362Z"
    },
    "tags": []
   },
   "outputs": [],
   "source": [
    "# Training Set\n",
    "neg_train_X = list(lst_train_normal[1].values())\n",
    "pos_train_X = list(lst_train_pneu[1].values())"
   ]
  },
  {
   "cell_type": "code",
   "execution_count": 16,
   "id": "7fd0d901-eb4c-4edd-b510-1842ca5602b9",
   "metadata": {
    "execution": {
     "iopub.execute_input": "2023-12-09T18:59:30.285048Z",
     "iopub.status.busy": "2023-12-09T18:59:30.283745Z",
     "iopub.status.idle": "2023-12-09T18:59:30.292467Z",
     "shell.execute_reply": "2023-12-09T18:59:30.290968Z",
     "shell.execute_reply.started": "2023-12-09T18:59:30.284986Z"
    },
    "tags": []
   },
   "outputs": [],
   "source": [
    "# 80/20 split per class\n",
    "# 80% of 1349 (Training + \"Validation\") = 1079\n",
    "# 20% of 1349 (Training + \"Validation\") = 270\n",
    "# Negative Training and Validation Sets\n",
    "neg_val_X = neg_train_X[:270]\n",
    "neg_train_X = neg_train_X[270:]\n",
    "# Positive Training and Validation Sets\n",
    "pos_val_X = pos_train_X[:270]\n",
    "pos_train_X = pos_train_X[270:]"
   ]
  },
  {
   "cell_type": "code",
   "execution_count": 17,
   "id": "5735edce-099c-465d-9020-c7e700e34788",
   "metadata": {
    "execution": {
     "iopub.execute_input": "2023-12-09T18:59:30.294806Z",
     "iopub.status.busy": "2023-12-09T18:59:30.294290Z",
     "iopub.status.idle": "2023-12-09T18:59:30.303168Z",
     "shell.execute_reply": "2023-12-09T18:59:30.301420Z",
     "shell.execute_reply.started": "2023-12-09T18:59:30.294760Z"
    },
    "tags": []
   },
   "outputs": [],
   "source": [
    "# Adding the \"validation set\" to the training set\n",
    "neg_train_X.extend(list(lst_val_normal[1].values()))\n",
    "pos_train_X.extend(list(lst_val_pneu[1].values()))\n",
    "# Adding the original positive and negatives\n",
    "# Training Set\n",
    "neg_train_X.extend(pos_train_X)\n",
    "X = neg_train_X"
   ]
  },
  {
   "cell_type": "code",
   "execution_count": 18,
   "id": "ca30d719-57b1-4f68-b17c-da5402df44fc",
   "metadata": {
    "execution": {
     "iopub.execute_input": "2023-12-09T18:59:30.306360Z",
     "iopub.status.busy": "2023-12-09T18:59:30.305339Z",
     "iopub.status.idle": "2023-12-09T18:59:30.313744Z",
     "shell.execute_reply": "2023-12-09T18:59:30.312061Z",
     "shell.execute_reply.started": "2023-12-09T18:59:30.306307Z"
    },
    "tags": []
   },
   "outputs": [],
   "source": [
    "# Training Set y\n",
    "neg_train_y = np.zeros(1079)\n",
    "pos_train_y = np.ones(1079)\n",
    "y = np.append(neg_train_y, pos_train_y, axis=0)"
   ]
  },
  {
   "cell_type": "code",
   "execution_count": 19,
   "id": "9b3e8297-5854-48a7-bf9b-de357c76788a",
   "metadata": {
    "execution": {
     "iopub.execute_input": "2023-12-09T18:59:30.317832Z",
     "iopub.status.busy": "2023-12-09T18:59:30.316549Z",
     "iopub.status.idle": "2023-12-09T18:59:30.324553Z",
     "shell.execute_reply": "2023-12-09T18:59:30.322906Z",
     "shell.execute_reply.started": "2023-12-09T18:59:30.317770Z"
    },
    "tags": []
   },
   "outputs": [],
   "source": [
    "# Validation Set X\n",
    "neg_val_X.extend(pos_val_X)\n",
    "X_val = neg_val_X"
   ]
  },
  {
   "cell_type": "code",
   "execution_count": 20,
   "id": "ad36e156-16f6-40f8-a02e-7788a5fc5b54",
   "metadata": {
    "execution": {
     "iopub.execute_input": "2023-12-09T18:59:30.327952Z",
     "iopub.status.busy": "2023-12-09T18:59:30.326845Z",
     "iopub.status.idle": "2023-12-09T18:59:30.335799Z",
     "shell.execute_reply": "2023-12-09T18:59:30.333973Z",
     "shell.execute_reply.started": "2023-12-09T18:59:30.327891Z"
    },
    "tags": []
   },
   "outputs": [],
   "source": [
    "# Validation Set y\n",
    "neg_val_y = np.zeros(270)\n",
    "pos_val_y = np.ones(270)\n",
    "y_val = np.append(neg_val_y, pos_val_y, axis=0)"
   ]
  },
  {
   "cell_type": "code",
   "execution_count": 21,
   "id": "5b5f59ee-fc20-409b-b454-7b2c81faa7f5",
   "metadata": {
    "execution": {
     "iopub.execute_input": "2023-12-09T18:59:30.338508Z",
     "iopub.status.busy": "2023-12-09T18:59:30.337946Z",
     "iopub.status.idle": "2023-12-09T18:59:30.346725Z",
     "shell.execute_reply": "2023-12-09T18:59:30.345251Z",
     "shell.execute_reply.started": "2023-12-09T18:59:30.338456Z"
    },
    "tags": []
   },
   "outputs": [],
   "source": [
    "# Test Set X\n",
    "neg_test_X = list(lst_test_normal[1].values())\n",
    "pos_test_X = list(lst_test_pneu[1].values())\n",
    "neg_test_X.extend(pos_test_X)\n",
    "X_test = neg_test_X"
   ]
  },
  {
   "cell_type": "code",
   "execution_count": 22,
   "id": "7409c585-b377-4887-934a-c53f4d95d5a9",
   "metadata": {
    "execution": {
     "iopub.execute_input": "2023-12-09T18:59:30.350045Z",
     "iopub.status.busy": "2023-12-09T18:59:30.348691Z",
     "iopub.status.idle": "2023-12-09T18:59:30.357107Z",
     "shell.execute_reply": "2023-12-09T18:59:30.355419Z",
     "shell.execute_reply.started": "2023-12-09T18:59:30.349985Z"
    },
    "tags": []
   },
   "outputs": [],
   "source": [
    "# Test Set y\n",
    "neg_test_y = np.zeros(len(lst_test_normal[1]))\n",
    "pos_test_y = np.ones(len(lst_test_pneu[1]))\n",
    "y_test = np.append(neg_test_y, pos_test_y, axis=0)"
   ]
  },
  {
   "cell_type": "markdown",
   "id": "934c6682-87dd-4048-8b02-c3b397e8e6c8",
   "metadata": {},
   "source": [
    "<p style='text-indent: 2em'>An 80/20 split was done for each class in the training set (where in the split, it is assumed that the validation set is already added even if it is not, as to streamline the process), as to maintain the class balance in the training set, where the 20% will be placed as the validation set. The validation set which assumed to be added would then be added to the resulting training set. Moving on, the positive and negative cases in each set are added together and outcome variables are created for each image.</p>"
   ]
  },
  {
   "cell_type": "markdown",
   "id": "5fd980e4-766b-45b9-a512-0e4054e77bb1",
   "metadata": {},
   "source": [
    "<p style='text-indent: 2em'>Given that there are several features or keypoints acquired from a single image where each image may be denoted by an $m$ x 128 array (where $m$ is the number of features or keypoints acquired), in order to prepare them for clustering (which would essentially help in denoting each image as a single row), all of the keypoints from all the images in each set would be stacked vertically together.</p>"
   ]
  },
  {
   "cell_type": "code",
   "execution_count": 23,
   "id": "6d10b1ec-bc1c-4955-ab41-039e1deb4bdb",
   "metadata": {
    "execution": {
     "iopub.execute_input": "2023-12-09T18:59:30.359392Z",
     "iopub.status.busy": "2023-12-09T18:59:30.358947Z",
     "iopub.status.idle": "2023-12-09T19:02:25.780265Z",
     "shell.execute_reply": "2023-12-09T19:02:25.778569Z",
     "shell.execute_reply.started": "2023-12-09T18:59:30.359353Z"
    },
    "tags": []
   },
   "outputs": [],
   "source": [
    "X = cv_helpers.prepare_vstack(X)"
   ]
  },
  {
   "cell_type": "code",
   "execution_count": 24,
   "id": "fb9eb3b5-614e-4cc9-a391-b1c8de8070f8",
   "metadata": {
    "execution": {
     "iopub.execute_input": "2023-12-09T19:02:25.781968Z",
     "iopub.status.busy": "2023-12-09T19:02:25.781732Z",
     "iopub.status.idle": "2023-12-09T19:02:35.943226Z",
     "shell.execute_reply": "2023-12-09T19:02:35.941363Z",
     "shell.execute_reply.started": "2023-12-09T19:02:25.781948Z"
    },
    "tags": []
   },
   "outputs": [],
   "source": [
    "X_val = cv_helpers.prepare_vstack(X_val)"
   ]
  },
  {
   "cell_type": "code",
   "execution_count": 25,
   "id": "69e02fc8-1db6-41f0-a64c-193a30b15608",
   "metadata": {
    "execution": {
     "iopub.execute_input": "2023-12-09T19:02:35.947124Z",
     "iopub.status.busy": "2023-12-09T19:02:35.946396Z",
     "iopub.status.idle": "2023-12-09T19:02:48.277739Z",
     "shell.execute_reply": "2023-12-09T19:02:48.276679Z",
     "shell.execute_reply.started": "2023-12-09T19:02:35.947058Z"
    },
    "tags": []
   },
   "outputs": [],
   "source": [
    "X_test = cv_helpers.prepare_vstack(X_test)"
   ]
  },
  {
   "cell_type": "code",
   "execution_count": 26,
   "id": "504066da-8670-4f9c-8d0b-b8949006ac56",
   "metadata": {
    "execution": {
     "iopub.execute_input": "2023-12-09T19:02:48.278915Z",
     "iopub.status.busy": "2023-12-09T19:02:48.278707Z",
     "iopub.status.idle": "2023-12-09T19:02:48.429491Z",
     "shell.execute_reply": "2023-12-09T19:02:48.428354Z",
     "shell.execute_reply.started": "2023-12-09T19:02:48.278897Z"
    },
    "tags": []
   },
   "outputs": [],
   "source": [
    "%%capture\n",
    "plt.boxplot(lst_train_normal[1]['IM-0164-0001.jpeg'].flatten(),\n",
    "            \n",
    "           flierprops=dict(markeredgecolor='black'),\n",
    "           medianprops=dict(color='black'))\n",
    "plt.title('Box Plot of Flattened Keypoints-Descriptors Array')\n",
    "plt.ylabel('Magnitude/Value')\n",
    "plt.xlabel('Flattened Keypoint-Descriptors Array')\n",
    "plt.show()"
   ]
  },
  {
   "cell_type": "markdown",
   "id": "b058cfa6-c80e-4a1b-959e-b542359e81a5",
   "metadata": {},
   "source": [
    "<center><img src='box_plot_kp.png'/></center>"
   ]
  },
  {
   "cell_type": "markdown",
   "id": "7aebfb62-6269-4169-93ed-4791378311d4",
   "metadata": {},
   "source": [
    "<center><b>Figure 14.</b> Box-Plot for Flattened Keypoints-Descriptors Array (One Image)</center>"
   ]
  },
  {
   "cell_type": "markdown",
   "id": "7e4dbc81-8b4f-4e4d-a353-04d9ddec6101",
   "metadata": {},
   "source": [
    "<p style='text-indent: 2em'>Afterwards, the resulting stacked array for the training set is then normalized using the StandardScaler, given that there are several outliers in the descriptors created from the SIFT algorithm as shown above and that the StandardScaler is less sensitive to outliers. The same fitted scaler would be used to scale the validation and test set.</p>"
   ]
  },
  {
   "cell_type": "code",
   "execution_count": 27,
   "id": "cac4c366-b648-42b8-97cb-77c11c3e9996",
   "metadata": {
    "execution": {
     "iopub.execute_input": "2023-12-09T19:02:48.430716Z",
     "iopub.status.busy": "2023-12-09T19:02:48.430513Z",
     "iopub.status.idle": "2023-12-09T19:02:49.839179Z",
     "shell.execute_reply": "2023-12-09T19:02:49.837679Z",
     "shell.execute_reply.started": "2023-12-09T19:02:48.430699Z"
    },
    "tags": []
   },
   "outputs": [],
   "source": [
    "X, scaler = cv_helpers.standardize(X)"
   ]
  },
  {
   "cell_type": "code",
   "execution_count": 28,
   "id": "83af7dfb-c6ec-4686-8f24-408263721524",
   "metadata": {
    "execution": {
     "iopub.execute_input": "2023-12-09T19:02:49.844158Z",
     "iopub.status.busy": "2023-12-09T19:02:49.843919Z",
     "iopub.status.idle": "2023-12-09T19:02:49.990712Z",
     "shell.execute_reply": "2023-12-09T19:02:49.989625Z",
     "shell.execute_reply.started": "2023-12-09T19:02:49.844139Z"
    },
    "tags": []
   },
   "outputs": [],
   "source": [
    "X_val = scaler.transform(X_val)"
   ]
  },
  {
   "cell_type": "code",
   "execution_count": 29,
   "id": "05ac3958-e53d-4b91-ba88-3d810adb6566",
   "metadata": {
    "execution": {
     "iopub.execute_input": "2023-12-09T19:02:49.991951Z",
     "iopub.status.busy": "2023-12-09T19:02:49.991728Z",
     "iopub.status.idle": "2023-12-09T19:02:50.143891Z",
     "shell.execute_reply": "2023-12-09T19:02:50.142274Z",
     "shell.execute_reply.started": "2023-12-09T19:02:49.991932Z"
    },
    "tags": []
   },
   "outputs": [],
   "source": [
    "X_test = scaler.transform(X_test)"
   ]
  },
  {
   "cell_type": "markdown",
   "id": "99634f1e-5991-4892-8397-887b997f1c01",
   "metadata": {},
   "source": [
    "<p style='text-indent: 2em'>Moving on, the rows in the normalized array of keypoint descriptors would be reduced using k-means clustering. In order to know the number of optimal clusters to use, the elbow method and the silhouette score method would be used. The elbow method is based on the inertia of the k-means cluster, which is essentially the measure of intra-cluster distances, measuring how far a data point is to the average of all data points or the centroid and indicating whether the data points are similar or well-matched to the data points in its cluster. The lower the inertia, the better, and the reason why one would try to find the elbow is to find the point where there is only minimal decreases in inertia (as to avoid creating too many clusters).<sup><a href='#Twenty-four'>24</a></sup></p>"
   ]
  },
  {
   "cell_type": "markdown",
   "id": "444509b2-ecbb-4563-8559-236f06ff226a",
   "metadata": {},
   "source": [
    "<p style='text-indent: 2em'>On the other hand, the silhouette score \"is a measure of how similar a data point is within-cluster (cohesion) compared to other clusters (separation)\".<sup><a href='#Twenty-five'>25</a></sup> The average silhouette score is calculated to account for all data points. Given that it is a measure of similarity (and not distance which is characteristic of inertia), the best average silhouette score is the highest average silhouette score, and so, when finding the best number of k to use, the k at the highest average silhouette score (where there is also an elbow in the inertia plot) is used. In order to streamline the process for both metrics, a stochastic form of kmeans clustering called MiniBatchKmeans is used where 200 data points are randomly sampled every iteration and are used to form the clusters, until convergence wherein there are no changes in the clustering after several iterations.<sup><a href='#Twenty-six'>26</a></sup> Moreover, five average silhouette scores for each k would be calculated using different sample sizes, which would be plotted simultaneously and also averaged and plotted as one.</p>"
   ]
  },
  {
   "cell_type": "code",
   "execution_count": 30,
   "id": "4a6432f8-4e4c-48ee-8412-aa54d1d6c380",
   "metadata": {
    "execution": {
     "iopub.execute_input": "2023-12-09T19:02:50.145170Z",
     "iopub.status.busy": "2023-12-09T19:02:50.144947Z",
     "iopub.status.idle": "2023-12-09T19:11:02.526067Z",
     "shell.execute_reply": "2023-12-09T19:11:02.524574Z",
     "shell.execute_reply.started": "2023-12-09T19:02:50.145152Z"
    },
    "tags": []
   },
   "outputs": [],
   "source": [
    "warnings.filterwarnings('ignore')\n",
    "\n",
    "lst_batch = [100, 500, 1000, 5000, 10000]\n",
    "lst_wss = []\n",
    "for i in range (1, 51):\n",
    "    lst_first = []\n",
    "    kmeans_model, labels = cv_helpers.mini_batch_kmeans(X, i)\n",
    "# Calculate silhouette score and inertia\n",
    "    if i >= 2:\n",
    "        for j in range(5):\n",
    "            silhouette_avg = silhouette_score(X, labels,\n",
    "                                              sample_size=lst_batch[j],\n",
    "                                              random_state=0)\n",
    "            lst_first.append(silhouette_avg)\n",
    "        if i == 2:\n",
    "            lst_sil = np.array(lst_first)\n",
    "        else:\n",
    "            lst_sil = np.vstack((lst_sil, lst_first))\n",
    "    lst_wss.append(kmeans_model.inertia_)"
   ]
  },
  {
   "cell_type": "code",
   "execution_count": 31,
   "id": "d7aa660c-a874-4191-8395-17d8992aa767",
   "metadata": {
    "execution": {
     "iopub.execute_input": "2023-12-09T19:11:02.527709Z",
     "iopub.status.busy": "2023-12-09T19:11:02.527473Z",
     "iopub.status.idle": "2023-12-09T19:11:02.695942Z",
     "shell.execute_reply": "2023-12-09T19:11:02.694245Z",
     "shell.execute_reply.started": "2023-12-09T19:11:02.527688Z"
    },
    "tags": []
   },
   "outputs": [],
   "source": [
    "%%capture\n",
    "# Plotting the inertia plot\n",
    "x_ = np.arange(1, 51)\n",
    "plt.plot(x_, lst_wss, '-o', color='black')\n",
    "plt.title('k vs. Inertia Plot')\n",
    "plt.xlabel('k')\n",
    "plt.ylabel('Inertia')\n",
    "plt.show()"
   ]
  },
  {
   "cell_type": "code",
   "execution_count": 32,
   "id": "7f1b99ff-7630-43f5-844b-619e9cd5d14a",
   "metadata": {
    "execution": {
     "iopub.execute_input": "2023-12-09T19:11:02.698316Z",
     "iopub.status.busy": "2023-12-09T19:11:02.697822Z",
     "iopub.status.idle": "2023-12-09T19:11:02.906903Z",
     "shell.execute_reply": "2023-12-09T19:11:02.905198Z",
     "shell.execute_reply.started": "2023-12-09T19:11:02.698272Z"
    },
    "tags": []
   },
   "outputs": [],
   "source": [
    "%%capture\n",
    "# Plotting the average silhouette scores\n",
    "x_ = np.arange(2, 51)\n",
    "plt.plot(x_, lst_sil[:, 0], '-o', color='#e4e4e4')\n",
    "plt.plot(x_, lst_sil[:, 1], '-o', color='#e4e4e4')\n",
    "plt.plot(x_, lst_sil[:, 2], '-o', color='#e4e4e4')\n",
    "plt.plot(x_, lst_sil[:, 3], '-o', color='#e4e4e4')\n",
    "plt.plot(x_, lst_sil[:, 4], '-o', color='#000000')\n",
    "plt.legend(['100', '500', '1000', '5000', '10000'], title='Sample Size')\n",
    "plt.title('k vs. Average Silhoeutte Score Plot')\n",
    "plt.xlabel('k')\n",
    "plt.ylabel('Average Silhouette Score')\n",
    "plt.show()"
   ]
  },
  {
   "cell_type": "code",
   "execution_count": 33,
   "id": "8bdb338c-204f-43d6-b7f4-cdc5c5fc2dd3",
   "metadata": {
    "execution": {
     "iopub.execute_input": "2023-12-09T19:11:02.909205Z",
     "iopub.status.busy": "2023-12-09T19:11:02.908708Z",
     "iopub.status.idle": "2023-12-09T19:11:02.917109Z",
     "shell.execute_reply": "2023-12-09T19:11:02.915158Z",
     "shell.execute_reply.started": "2023-12-09T19:11:02.909160Z"
    },
    "tags": []
   },
   "outputs": [],
   "source": [
    "lst_sil_ave = np.mean(lst_sil, axis=1)"
   ]
  },
  {
   "cell_type": "code",
   "execution_count": 34,
   "id": "84fccdf2-14e1-458f-b6c4-3fafcbd46af2",
   "metadata": {
    "execution": {
     "iopub.execute_input": "2023-12-09T19:11:02.920020Z",
     "iopub.status.busy": "2023-12-09T19:11:02.919383Z",
     "iopub.status.idle": "2023-12-09T19:11:03.075035Z",
     "shell.execute_reply": "2023-12-09T19:11:03.073285Z",
     "shell.execute_reply.started": "2023-12-09T19:11:02.919961Z"
    },
    "tags": []
   },
   "outputs": [],
   "source": [
    "%%capture\n",
    "# Plotting the \"averaged\" silhouette scores\n",
    "x_ = np.arange(2, 51)\n",
    "plt.plot(x_, lst_sil_ave, '-o', color='#000000')\n",
    "plt.title('k vs. Averaged Silhoeutte Score Plot')\n",
    "plt.xlabel('k')\n",
    "plt.ylabel('Average Silhouette Score')\n",
    "plt.show()"
   ]
  },
  {
   "cell_type": "markdown",
   "id": "a8b5a92c-a8ad-4907-b3c9-993dda889b71",
   "metadata": {},
   "source": [
    "<center><img src='inertia_new.png'/></center>"
   ]
  },
  {
   "cell_type": "markdown",
   "id": "038bfd92-ebfb-4412-a45e-844c75956634",
   "metadata": {},
   "source": [
    "<center><b>Figure 15.</b> k vs. Inertia Plot</center>"
   ]
  },
  {
   "cell_type": "markdown",
   "id": "aaee0109-8d65-439c-88b1-0aa3ba13ab9a",
   "metadata": {},
   "source": [
    "<p style='text-indent: 2em'>As seen in the inertia plot, the plot begins to \"elbow\" or decrease in minimal amounts by k = 7.</p>"
   ]
  },
  {
   "cell_type": "markdown",
   "id": "63f16536-22f1-4c07-8f6b-308bfb031caa",
   "metadata": {
    "execution": {
     "iopub.execute_input": "2023-12-09T05:00:24.578471Z",
     "iopub.status.busy": "2023-12-09T05:00:24.577235Z",
     "iopub.status.idle": "2023-12-09T05:00:24.588731Z",
     "shell.execute_reply": "2023-12-09T05:00:24.586796Z",
     "shell.execute_reply.started": "2023-12-09T05:00:24.578405Z"
    },
    "tags": []
   },
   "source": [
    "<center><img src='new_ave_sil.png'/></center>"
   ]
  },
  {
   "cell_type": "markdown",
   "id": "6faaff94-e783-41ef-81c1-230a8c860156",
   "metadata": {},
   "source": [
    "<center><b>Figure 16.</b> k vs. Average Silhouette Score Plot</center>"
   ]
  },
  {
   "cell_type": "markdown",
   "id": "d044a38b-b96e-4710-89d2-0b068e8ab3ba",
   "metadata": {},
   "source": [
    "<p style='text-indent: 2em'>As seen in the average silhouette score plot, aside from k = 2 (the starting k given that one cannot compare a data point in a cluster to itself, if k = 1) which is not in line with the elbow method and which would most probably lead to over-simplification of the keypoint descriptors, the highest average silhouette score, which is in line with the elbow method, is at k = 7 also. Hence, nine clusters or \"visual words\" would be derived from all the keypoint descriptors or \"features\" of the images.</p>"
   ]
  },
  {
   "cell_type": "markdown",
   "id": "4368b24a-b7e8-47d6-9d53-dc01abb82922",
   "metadata": {},
   "source": [
    "<center><img src='new_aved_sil.png'/></center>"
   ]
  },
  {
   "cell_type": "markdown",
   "id": "720746d6-2851-4cd0-8fec-2f715e5912ed",
   "metadata": {},
   "source": [
    "<center><b>Figure 17.</b> k vs. Averaged Silhouette Score Plot</center>"
   ]
  },
  {
   "cell_type": "markdown",
   "id": "79b77a1a-794c-4c68-8dc3-026b2e8ce187",
   "metadata": {},
   "source": [
    "<p style='text-indent: 2em'>The same can also be said for the averaged silhouette scores plot.</p>"
   ]
  },
  {
   "cell_type": "markdown",
   "id": "55d247af-11c7-4c75-bd8d-c682353cfba7",
   "metadata": {},
   "source": [
    "<p style='text-indent: 2em'>In order to lessen stochasticity and to lessen the loss in cluster quality, the original kmeans-clustering function from sklearn would be used, with the k parameter equal to seven.<sup><a href='#Twenty-six'>26</a></sup> The fitted model would then be used for the validation and training set.</p>"
   ]
  },
  {
   "cell_type": "code",
   "execution_count": 35,
   "id": "bdde9c7c-2757-42dc-9a40-c3bc9919ec1b",
   "metadata": {
    "execution": {
     "iopub.execute_input": "2023-12-09T19:11:03.076570Z",
     "iopub.status.busy": "2023-12-09T19:11:03.076364Z",
     "iopub.status.idle": "2023-12-09T19:11:42.541872Z",
     "shell.execute_reply": "2023-12-09T19:11:42.540063Z",
     "shell.execute_reply.started": "2023-12-09T19:11:03.076553Z"
    },
    "tags": []
   },
   "outputs": [],
   "source": [
    "kmeans_model, kmeans_cluster = cv_helpers.cluster(X, 7)"
   ]
  },
  {
   "cell_type": "code",
   "execution_count": 36,
   "id": "69295f4c-ea0b-416d-ade1-80100c6012dc",
   "metadata": {
    "execution": {
     "iopub.execute_input": "2023-12-09T19:11:42.543613Z",
     "iopub.status.busy": "2023-12-09T19:11:42.543365Z",
     "iopub.status.idle": "2023-12-09T19:11:42.563321Z",
     "shell.execute_reply": "2023-12-09T19:11:42.562314Z",
     "shell.execute_reply.started": "2023-12-09T19:11:42.543591Z"
    },
    "tags": []
   },
   "outputs": [],
   "source": [
    "X_val_k = kmeans_model.predict(X_val)"
   ]
  },
  {
   "cell_type": "code",
   "execution_count": 37,
   "id": "38efc6bc-bb54-43be-bd1e-12eb04d8bb1e",
   "metadata": {
    "execution": {
     "iopub.execute_input": "2023-12-09T19:11:42.564425Z",
     "iopub.status.busy": "2023-12-09T19:11:42.564175Z",
     "iopub.status.idle": "2023-12-09T19:11:42.585040Z",
     "shell.execute_reply": "2023-12-09T19:11:42.583890Z",
     "shell.execute_reply.started": "2023-12-09T19:11:42.564403Z"
    },
    "tags": []
   },
   "outputs": [],
   "source": [
    "X_test_k = kmeans_model.predict(X_test)"
   ]
  },
  {
   "cell_type": "markdown",
   "id": "d4fa4482-1669-452c-894a-f0a6c593bc3e",
   "metadata": {},
   "source": [
    "<p style='text-indent: 2em'>To form the bag-of-visual-words, the frequencies of the cluster labels for each keypoint descriptor or feature of the image would be consolidated as one array. Hence, the numerous keypoint descriptor rows for a single image are consolidated into one row, a row of visual word frequencies whose shape is 1 row x 9 columns.</p>"
   ]
  },
  {
   "cell_type": "code",
   "execution_count": 38,
   "id": "42b08cc9-1d78-4d25-852d-9a1d9579da4b",
   "metadata": {
    "execution": {
     "iopub.execute_input": "2023-12-09T19:11:42.586341Z",
     "iopub.status.busy": "2023-12-09T19:11:42.586082Z",
     "iopub.status.idle": "2023-12-09T19:11:42.982937Z",
     "shell.execute_reply": "2023-12-09T19:11:42.981386Z",
     "shell.execute_reply.started": "2023-12-09T19:11:42.586321Z"
    },
    "tags": []
   },
   "outputs": [],
   "source": [
    "# Original list of images is used to acquire the number of keyword descriptors\n",
    "# in a given image which would be used in indexing the clusters\n",
    "# neg_train_X is used as it is a placeholder name for the original training\n",
    "# set, similar logic for the validation and test set\n",
    "X_desc = neg_train_X\n",
    "bovw_hist = cv_helpers.develop_vocabulary(count_train,\n",
    "                                          X_desc,\n",
    "                                          7,\n",
    "                                          kmeans_cluster)"
   ]
  },
  {
   "cell_type": "code",
   "execution_count": 39,
   "id": "ee11d2bc-67d8-4208-9b81-d6bd0387e241",
   "metadata": {
    "execution": {
     "iopub.execute_input": "2023-12-09T19:11:42.984120Z",
     "iopub.status.busy": "2023-12-09T19:11:42.983922Z",
     "iopub.status.idle": "2023-12-09T19:11:43.076675Z",
     "shell.execute_reply": "2023-12-09T19:11:43.075642Z",
     "shell.execute_reply.started": "2023-12-09T19:11:42.984103Z"
    },
    "tags": []
   },
   "outputs": [],
   "source": [
    "X_desc_val = neg_val_X\n",
    "bovw_hist_val = cv_helpers.develop_vocabulary(count_val,\n",
    "                                          X_desc_val,\n",
    "                                          7,\n",
    "                                          X_val_k)"
   ]
  },
  {
   "cell_type": "code",
   "execution_count": 40,
   "id": "59856e84-62f5-408e-80c4-e330d3bc1172",
   "metadata": {
    "execution": {
     "iopub.execute_input": "2023-12-09T19:11:43.077698Z",
     "iopub.status.busy": "2023-12-09T19:11:43.077513Z",
     "iopub.status.idle": "2023-12-09T19:11:43.173630Z",
     "shell.execute_reply": "2023-12-09T19:11:43.172512Z",
     "shell.execute_reply.started": "2023-12-09T19:11:43.077681Z"
    },
    "tags": []
   },
   "outputs": [],
   "source": [
    "X_test_val = neg_test_X\n",
    "bovw_hist_test = cv_helpers.develop_vocabulary(count_test,\n",
    "                                          X_test_val,\n",
    "                                          7,\n",
    "                                          X_test_k)"
   ]
  },
  {
   "cell_type": "code",
   "execution_count": 41,
   "id": "e6bdd652-2e25-474e-b55c-21ad72e4cb0e",
   "metadata": {
    "execution": {
     "iopub.execute_input": "2023-12-09T19:11:43.174567Z",
     "iopub.status.busy": "2023-12-09T19:11:43.174375Z",
     "iopub.status.idle": "2023-12-09T19:11:43.539539Z",
     "shell.execute_reply": "2023-12-09T19:11:43.538322Z",
     "shell.execute_reply.started": "2023-12-09T19:11:43.174550Z"
    },
    "tags": []
   },
   "outputs": [
    {
     "data": {
      "image/png": "[encoded data removed]",
      "text/plain": [
       "<Figure size 1500x1500 with 1 Axes>"
      ]
     },
     "metadata": {},
     "output_type": "display_data"
    }
   ],
   "source": [
    "cv_helpers.plot_hist(bovw_hist, 7)"
   ]
  },
  {
   "cell_type": "markdown",
   "id": "51c79138-9f86-4418-a327-71952a1a023e",
   "metadata": {},
   "source": [
    "<center><b>Figure 18.</b> Complete Vocabulary Generated (Training Set)</center>"
   ]
  },
  {
   "cell_type": "markdown",
   "id": "5187d027-36d9-4970-87d7-d8e865459e0f",
   "metadata": {},
   "source": [
    "<p style='text-indent: 2em'>The vocabulary which show the total frequency of each \"visual word\" in the training set is shown above. The key features of the image have been derived and have been grouped into specific clusters or \"visual words\", hence making the dataset ready for machine learning.</p>"
   ]
  },
  {
   "cell_type": "markdown",
   "id": "9ca67b8c-c88b-401d-95bc-9a4a6c69d71f",
   "metadata": {},
   "source": [
    "[Back to Table of Contents](#TOC)"
   ]
  },
  {
   "cell_type": "markdown",
   "id": "bd7a5f4c-d5e1-4ee9-8f59-f7b0fdf58977",
   "metadata": {},
   "source": [
    "<a id='Pipeline'></a>\n",
    "<h1 style=\"color:#ffffff; background-color:#000000; border: 1px solid #ffffff; padding: 10px 10px 10px 10px;\"><b>VII. MACHINE LEARNING PIPELINE</b></h1>"
   ]
  },
  {
   "cell_type": "markdown",
   "id": "0cb8710b-d7de-418d-a0d5-8bf9c1abbc2b",
   "metadata": {},
   "source": [
    "<h2>Training Phase: Fitting the Models</h2>"
   ]
  },
  {
   "cell_type": "markdown",
   "id": "02836cc2-74a7-44bd-bbee-6f7c53f489bf",
   "metadata": {},
   "source": [
    "<p style='text-indent: 2em'>Given that the functions to be used in training the model and finding the optimal parameters would incorporate scaling in their pipeline, during the training and validation phase, the derived dataset from the previous section would not be scaled beforehand. Given that the case study from which this study was inspired made use of a support vector machine model, the SVC model would be first used and trained over several C values and over different kernels.</p>"
   ]
  },
  {
   "cell_type": "markdown",
   "id": "12cf5707-b888-4d0e-9803-2521939805af",
   "metadata": {},
   "source": [
    "<p style='text-indent: 2em'>Moreover, the validation set would be used to find the optimal parameters whereas the training set would be used to fit the model. The reason why GridSearchCV would not be used in this pipeline is because there would be a potential data leakage, if the training set was inserted into the GridSearchCV pipeline. This is because all of the data points in the training set have been normalized together previously for the k-means clustering and have been used to create the model for the k-means clustering. Hence, by instead using the held-out validation set in the beginning, no data leakage would happen and the best, unbiased validation accuracy could be used to optimize the parameters for each model.</p>"
   ]
  },
  {
   "cell_type": "code",
   "execution_count": 42,
   "id": "76b37b0b-ef78-4b93-87ed-32eb482c4224",
   "metadata": {
    "execution": {
     "iopub.execute_input": "2023-12-09T19:11:43.540767Z",
     "iopub.status.busy": "2023-12-09T19:11:43.540538Z",
     "iopub.status.idle": "2023-12-09T19:12:30.638164Z",
     "shell.execute_reply": "2023-12-09T19:12:30.636076Z",
     "shell.execute_reply.started": "2023-12-09T19:11:43.540739Z"
    },
    "tags": []
   },
   "outputs": [],
   "source": [
    "# SVC model (Linear kernel) training\n",
    "C_linear, SVClinear_train, SVClinear_val = cv_helpers.get_best_params_svc(\n",
    "    bovw_hist, y, bovw_hist_val, y_val, 'linear')"
   ]
  },
  {
   "cell_type": "code",
   "execution_count": 43,
   "id": "7482df3c-da42-4a3a-860b-c7f1ba955a28",
   "metadata": {
    "execution": {
     "iopub.execute_input": "2023-12-09T19:12:30.639771Z",
     "iopub.status.busy": "2023-12-09T19:12:30.639541Z",
     "iopub.status.idle": "2023-12-09T19:12:44.742271Z",
     "shell.execute_reply": "2023-12-09T19:12:44.740588Z",
     "shell.execute_reply.started": "2023-12-09T19:12:30.639749Z"
    },
    "tags": []
   },
   "outputs": [],
   "source": [
    "# SVC model (Poly kernel) training\n",
    "C_poly, SVCpoly_train, SVCpoly_val = cv_helpers.get_best_params_svc(\n",
    "    bovw_hist, y, bovw_hist_val, y_val, 'poly')"
   ]
  },
  {
   "cell_type": "code",
   "execution_count": 44,
   "id": "7b067006-37f4-4648-8968-1e848a34ee20",
   "metadata": {
    "execution": {
     "iopub.execute_input": "2023-12-09T19:12:44.745436Z",
     "iopub.status.busy": "2023-12-09T19:12:44.744906Z",
     "iopub.status.idle": "2023-12-09T19:12:49.070863Z",
     "shell.execute_reply": "2023-12-09T19:12:49.069305Z",
     "shell.execute_reply.started": "2023-12-09T19:12:44.745386Z"
    },
    "tags": []
   },
   "outputs": [],
   "source": [
    "# SVC model (rbf kernel) training\n",
    "C_rbf, SVCrbf_train, SVCrbf_val = cv_helpers.get_best_params_svc(\n",
    "    bovw_hist, y, bovw_hist_val, y_val, 'rbf')"
   ]
  },
  {
   "cell_type": "code",
   "execution_count": 45,
   "id": "55a955b1-843d-4bf7-8fc1-4c18bb80a3ba",
   "metadata": {
    "execution": {
     "iopub.execute_input": "2023-12-09T19:12:49.072091Z",
     "iopub.status.busy": "2023-12-09T19:12:49.071872Z",
     "iopub.status.idle": "2023-12-09T19:12:56.093182Z",
     "shell.execute_reply": "2023-12-09T19:12:56.091636Z",
     "shell.execute_reply.started": "2023-12-09T19:12:49.072073Z"
    },
    "tags": []
   },
   "outputs": [],
   "source": [
    "# SVC model (Sigmoid kernel) training\n",
    "C_sig, SVCsig_train, SVCsig_val = cv_helpers.get_best_params_svc(\n",
    "    bovw_hist, y, bovw_hist_val, y_val, 'sigmoid')"
   ]
  },
  {
   "cell_type": "markdown",
   "id": "7497e4d2-e7b0-427a-b0a2-4ab51c03fd96",
   "metadata": {},
   "source": [
    "<p style='text-indent: 2em'>Moving on, other models such as Logistic Regression, KNeighbors_Classifier, RandomForestClassifier, and GradientBoostingClassifier are also trained using the dataset.</p>"
   ]
  },
  {
   "cell_type": "code",
   "execution_count": 46,
   "id": "9e802f1f-f83c-4f6f-a900-c8267f300543",
   "metadata": {
    "execution": {
     "iopub.execute_input": "2023-12-09T19:12:56.094307Z",
     "iopub.status.busy": "2023-12-09T19:12:56.094104Z",
     "iopub.status.idle": "2023-12-09T19:13:02.106948Z",
     "shell.execute_reply": "2023-12-09T19:13:02.104481Z",
     "shell.execute_reply.started": "2023-12-09T19:12:56.094290Z"
    },
    "tags": []
   },
   "outputs": [],
   "source": [
    "# Logistic Regression\n",
    "C_lr, lr_train, lr_val = cv_helpers.get_best_params_lr(\n",
    "    bovw_hist, y, bovw_hist_val, y_val)"
   ]
  },
  {
   "cell_type": "code",
   "execution_count": 47,
   "id": "6efe7284-4492-45ae-b96a-57852c1a3288",
   "metadata": {
    "execution": {
     "iopub.execute_input": "2023-12-09T19:13:02.199770Z",
     "iopub.status.busy": "2023-12-09T19:13:02.110278Z",
     "iopub.status.idle": "2023-12-09T19:14:11.384736Z",
     "shell.execute_reply": "2023-12-09T19:14:11.383080Z",
     "shell.execute_reply.started": "2023-12-09T19:13:02.199665Z"
    },
    "tags": []
   },
   "outputs": [],
   "source": [
    "# KNN\n",
    "k, knn_train, knn_val = cv_helpers.get_best_params_knn(\n",
    "    bovw_hist, y, bovw_hist_val, y_val)"
   ]
  },
  {
   "cell_type": "code",
   "execution_count": 48,
   "id": "2b51e0bc-27d3-4f73-b88f-27defac037b6",
   "metadata": {
    "execution": {
     "iopub.execute_input": "2023-12-09T19:14:11.386069Z",
     "iopub.status.busy": "2023-12-09T19:14:11.385856Z",
     "iopub.status.idle": "2023-12-09T19:14:14.407348Z",
     "shell.execute_reply": "2023-12-09T19:14:14.405529Z",
     "shell.execute_reply.started": "2023-12-09T19:14:11.386049Z"
    },
    "tags": []
   },
   "outputs": [],
   "source": [
    "# Random Forest Classifier\n",
    "depth, rfc_train, rfc_val = cv_helpers.get_best_params_rfc(\n",
    "    bovw_hist, y, bovw_hist_val, y_val)"
   ]
  },
  {
   "cell_type": "code",
   "execution_count": 49,
   "id": "b750e5d9-76a2-4adb-8d51-33156cd42f10",
   "metadata": {
    "execution": {
     "iopub.execute_input": "2023-12-09T19:14:14.408796Z",
     "iopub.status.busy": "2023-12-09T19:14:14.408572Z",
     "iopub.status.idle": "2023-12-09T19:14:35.065831Z",
     "shell.execute_reply": "2023-12-09T19:14:35.064024Z",
     "shell.execute_reply.started": "2023-12-09T19:14:14.408776Z"
    },
    "tags": []
   },
   "outputs": [],
   "source": [
    "# Gradient Boosting Classifier\n",
    "params, gbm_train, gbm_val = cv_helpers.get_best_params_gbm(\n",
    "    bovw_hist, y, bovw_hist_val, y_val)"
   ]
  },
  {
   "cell_type": "markdown",
   "id": "9581e91d-b4e9-4136-a08c-e0fea5a4daf7",
   "metadata": {},
   "source": [
    "<h2>Validation Phase: Finding the Optimal Parameters</h2>\n",
    "\n",
    "<p style='text-indent: 2em'>After acquiring the best \"validation\" score, alongside the training score, of each model, the model with the best validation score would be used as the final model, regardless of the test accuracy, in the testing phase.</p>"
   ]
  },
  {
   "cell_type": "code",
   "execution_count": 50,
   "id": "e1abcf52-7a09-4559-b7ee-b08e3e2a909b",
   "metadata": {
    "execution": {
     "iopub.execute_input": "2023-12-09T19:14:35.067108Z",
     "iopub.status.busy": "2023-12-09T19:14:35.066889Z",
     "iopub.status.idle": "2023-12-09T19:14:35.089717Z",
     "shell.execute_reply": "2023-12-09T19:14:35.088379Z",
     "shell.execute_reply.started": "2023-12-09T19:14:35.067088Z"
    },
    "tags": []
   },
   "outputs": [],
   "source": [
    "df_train_val = pd.DataFrame(columns=['Name of Model',\n",
    "                                     'Best Parameters',\n",
    "                                     'Training Accuracy',\n",
    "                                     'Validation Accuracy'])\n",
    "df_train_val.loc[0] = ['SVC (Linear)', f'C = {C_linear}',\n",
    "                       SVClinear_train, SVClinear_val]\n",
    "df_train_val.loc[1] = ['SVC (Poly)', f'C = {C_poly}',\n",
    "                       SVCpoly_train, SVCpoly_val]\n",
    "df_train_val.loc[2] = ['SVC (RBF)', f'C = {C_rbf}',\n",
    "                       SVCrbf_train, SVCrbf_val]\n",
    "df_train_val.loc[3] = ['SVC (Sigmoid)', f'C = {C_sig}',\n",
    "                       SVCsig_train, SVCsig_val]\n",
    "df_train_val.loc[4] = ['Logistic Regression', f'C = {C_lr}',\n",
    "                       lr_train, lr_val]\n",
    "df_train_val.loc[5] = ['K-Nearest Neighbors Classifier',\n",
    "                       f'n_neighbors = {k}',\n",
    "                       knn_train, knn_val]\n",
    "df_train_val.loc[6] = ['Random Forest Classifier',\n",
    "                       f'Max Depth = {depth}',\n",
    "                       rfc_train, rfc_val]\n",
    "df_train_val.loc[7] = ['Gradient Boosting Classifier',\n",
    "                       f'Max Depth = {params[1]}\\n'\n",
    "                       f'Learning Rate = {params[0]}',\n",
    "                       gbm_train, gbm_val]"
   ]
  },
  {
   "cell_type": "markdown",
   "id": "1c356c30-49db-4ace-b362-5c1097486d6e",
   "metadata": {},
   "source": [
    "<p><b>Table 1.</b></p>\n",
    "<p><i>List of Models, Best Parameters, Training Score, and Training Score</i></p>"
   ]
  },
  {
   "cell_type": "code",
   "execution_count": 51,
   "id": "26ff631d-bcb3-4255-8281-6034364b3329",
   "metadata": {
    "execution": {
     "iopub.execute_input": "2023-12-09T19:14:35.090972Z",
     "iopub.status.busy": "2023-12-09T19:14:35.090701Z",
     "iopub.status.idle": "2023-12-09T19:14:35.102961Z",
     "shell.execute_reply": "2023-12-09T19:14:35.101898Z",
     "shell.execute_reply.started": "2023-12-09T19:14:35.090949Z"
    },
    "tags": []
   },
   "outputs": [
    {
     "data": {
      "text/html": [
       "<table border=\"1\" class=\"dataframe\">\n",
       "  <thead>\n",
       "    <tr style=\"text-align: right;\">\n",
       "      <th></th>\n",
       "      <th>Name of Model</th>\n",
       "      <th>Best Parameters</th>\n",
       "      <th>Training Accuracy</th>\n",
       "      <th>Validation Accuracy</th>\n",
       "    </tr>\n",
       "  </thead>\n",
       "  <tbody>\n",
       "    <tr>\n",
       "      <th>0</th>\n",
       "      <td>SVC (Linear)</td>\n",
       "      <td>C = 0.001</td>\n",
       "      <td>0.816497</td>\n",
       "      <td>0.796296</td>\n",
       "    </tr>\n",
       "    <tr>\n",
       "      <th>1</th>\n",
       "      <td>SVC (Poly)</td>\n",
       "      <td>C = 0.001</td>\n",
       "      <td>0.740037</td>\n",
       "      <td>0.748148</td>\n",
       "    </tr>\n",
       "    <tr>\n",
       "      <th>2</th>\n",
       "      <td>SVC (RBF)</td>\n",
       "      <td>C = 1e-08</td>\n",
       "      <td>0.803058</td>\n",
       "      <td>0.777778</td>\n",
       "    </tr>\n",
       "    <tr>\n",
       "      <th>3</th>\n",
       "      <td>SVC (Sigmoid)</td>\n",
       "      <td>C = 0.01</td>\n",
       "      <td>0.824838</td>\n",
       "      <td>0.798148</td>\n",
       "    </tr>\n",
       "    <tr>\n",
       "      <th>4</th>\n",
       "      <td>Logistic Regression</td>\n",
       "      <td>C = 1e-08</td>\n",
       "      <td>0.772011</td>\n",
       "      <td>0.790741</td>\n",
       "    </tr>\n",
       "    <tr>\n",
       "      <th>5</th>\n",
       "      <td>K-Nearest Neighbors Classifier</td>\n",
       "      <td>n_neighbors = 294</td>\n",
       "      <td>0.822521</td>\n",
       "      <td>0.777778</td>\n",
       "    </tr>\n",
       "    <tr>\n",
       "      <th>6</th>\n",
       "      <td>Random Forest Classifier</td>\n",
       "      <td>Max Depth = 6</td>\n",
       "      <td>0.960148</td>\n",
       "      <td>0.537037</td>\n",
       "    </tr>\n",
       "    <tr>\n",
       "      <th>7</th>\n",
       "      <td>Gradient Boosting Classifier</td>\n",
       "      <td>Max Depth = 13<br>Learning Rate = 0.1</td>\n",
       "      <td>1.000000</td>\n",
       "      <td>0.774074</td>\n",
       "    </tr>\n",
       "  </tbody>\n",
       "</table>"
      ],
      "text/plain": [
       "<IPython.core.display.HTML object>"
      ]
     },
     "metadata": {},
     "output_type": "display_data"
    }
   ],
   "source": [
    "cv_helpers.pretty_print(df_train_val)"
   ]
  },
  {
   "cell_type": "markdown",
   "id": "4b812347-5c2a-47ab-bd64-85944858238e",
   "metadata": {},
   "source": [
    "<p style='text-indent: 2em'>SVC (Sigmoid) was found to the best model with a validaiton accuracy of <b>0.798148</b>. This is in line with what was said in the study by Zhou, Greenspan, and Shen where non-linear kernels were found to be the best-performing models for support vector machines.<sup><a href='#Six'>6</a></sup></p>"
   ]
  },
  {
   "cell_type": "markdown",
   "id": "ef24a24b-0956-4bc9-b695-583314b81a66",
   "metadata": {},
   "source": [
    "<h2>Testing Phase: Evaluating the Test Performance of Trained Models</h2>"
   ]
  },
  {
   "cell_type": "markdown",
   "id": "09b87808-0d7d-41f5-86fe-58c9811eefb7",
   "metadata": {},
   "source": [
    "<p style='text-indent: 2em'>The following are the test accuracies of each model. Notwithstanding that the chosen model may have a lower test accuracy than the other models, it is still good to see how the chosen model performed as compared to other models which have not been chosen.</p>"
   ]
  },
  {
   "cell_type": "code",
   "execution_count": 52,
   "id": "80c9aa28-30dc-497c-a246-2ce4b4b2458e",
   "metadata": {
    "execution": {
     "iopub.execute_input": "2023-12-09T19:14:35.103832Z",
     "iopub.status.busy": "2023-12-09T19:14:35.103619Z",
     "iopub.status.idle": "2023-12-09T19:14:35.110859Z",
     "shell.execute_reply": "2023-12-09T19:14:35.109774Z",
     "shell.execute_reply.started": "2023-12-09T19:14:35.103812Z"
    },
    "tags": []
   },
   "outputs": [],
   "source": [
    "bovw_hist, scaler2 = cv_helpers.standardize(bovw_hist)\n",
    "bovw_hist_test = scaler2.transform(bovw_hist_test)"
   ]
  },
  {
   "cell_type": "code",
   "execution_count": 53,
   "id": "b91c78bd-6e11-4990-ba7f-a4a825c6bf5f",
   "metadata": {
    "execution": {
     "iopub.execute_input": "2023-12-09T19:14:35.111951Z",
     "iopub.status.busy": "2023-12-09T19:14:35.111735Z",
     "iopub.status.idle": "2023-12-09T19:14:38.125395Z",
     "shell.execute_reply": "2023-12-09T19:14:38.123872Z",
     "shell.execute_reply.started": "2023-12-09T19:14:35.111932Z"
    },
    "tags": []
   },
   "outputs": [],
   "source": [
    "# SVC (Linear)\n",
    "svc_lin = SVC(C=0.001, random_state=0, kernel='linear')\n",
    "svc_lin.fit(bovw_hist, y)\n",
    "svclinear_test_score = svc_lin.score(bovw_hist_test, y_test)\n",
    "\n",
    "# SVC (Poly)\n",
    "svc_poly = SVC(C=0.001, random_state=0, kernel='poly')\n",
    "svc_poly.fit(bovw_hist, y)\n",
    "svcpoly_test_score = svc_poly.score(bovw_hist_test, y_test)\n",
    "\n",
    "# SVC (RBF)\n",
    "svc_rbf = SVC(C=1e-08, random_state=0, kernel='rbf')\n",
    "svc_rbf.fit(bovw_hist, y)\n",
    "svcRbf_test_score = svc_rbf.score(bovw_hist_test, y_test)\n",
    "\n",
    "# SVC (Sigmoid)\n",
    "svc_sig = SVC(C=0.01, random_state=0, kernel='sigmoid')\n",
    "svc_sig.fit(bovw_hist, y)\n",
    "svcSig_test_score = svcSig_test_score = svc_sig.score(bovw_hist_test, y_test)\n",
    "\n",
    "# Logistic Regression\n",
    "lr = LogisticRegression(C=1e-08, random_state=0)\n",
    "lr.fit(bovw_hist, y)\n",
    "lr_test_score = lr.score(bovw_hist_test, y_test)\n",
    "\n",
    "# KNN\n",
    "knn = KNeighborsClassifier(n_neighbors=294)\n",
    "knn.fit(bovw_hist, y)\n",
    "knn_test_score = knn.score(bovw_hist_test, y_test)\n",
    "\n",
    "# Random Forest Classifier\n",
    "rfc = RandomForestClassifier(max_depth=14)\n",
    "rfc.fit(bovw_hist, y)\n",
    "rfc_test_score = rfc.score(bovw_hist_test, y_test)\n",
    "\n",
    "# Gradient Boosting Classifier\n",
    "gbm = GradientBoostingClassifier(max_depth=12, learning_rate=0.1)\n",
    "gbm.fit(bovw_hist, y)\n",
    "gbm_test_score = gbm.score(bovw_hist_test, y_test)"
   ]
  },
  {
   "cell_type": "code",
   "execution_count": 54,
   "id": "5d05c5f3-8c9e-4e1a-b045-0dbf25b9d6f7",
   "metadata": {
    "execution": {
     "iopub.execute_input": "2023-12-09T19:14:38.126686Z",
     "iopub.status.busy": "2023-12-09T19:14:38.126473Z",
     "iopub.status.idle": "2023-12-09T19:14:38.140841Z",
     "shell.execute_reply": "2023-12-09T19:14:38.139742Z",
     "shell.execute_reply.started": "2023-12-09T19:14:38.126667Z"
    },
    "tags": []
   },
   "outputs": [],
   "source": [
    "df_test = pd.DataFrame(columns=['Name of Model',\n",
    "                                'Best Parameters',\n",
    "                                'Test Accuracy'])\n",
    "df_test.loc[0] = ['SVC (Linear)', f'C = {C_linear}',\n",
    "                       svclinear_test_score]\n",
    "df_test.loc[1] = ['SVC (Poly)', f'C = {C_linear}',\n",
    "                       svcpoly_test_score]\n",
    "df_test.loc[2] = ['SVC (RBF)', f'C = {C_rbf}',\n",
    "                       svcRbf_test_score]\n",
    "df_test.loc[3] = ['SVC (Sigmoid)', f'C = {C_sig}',\n",
    "                       svcSig_test_score]\n",
    "df_test.loc[4] = ['Logistic Regression', f'C = {C_lr}',\n",
    "                       lr_test_score]\n",
    "df_test.loc[5] = ['K-Nearest Neighbors Classifier',\n",
    "                       f'n_neighbors = {k}',\n",
    "                       knn_test_score]\n",
    "df_test.loc[6] = ['Random Forest Classifier',\n",
    "                       f'Max Depth = {depth}',\n",
    "                       rfc_test_score]\n",
    "df_test.loc[7] = ['Gradient Boosting Classifier',\n",
    "                       f'Max Depth = {params[1]}\\n'\n",
    "                       f'Learning Rate = {params[0]}',\n",
    "                       gbm_test_score]"
   ]
  },
  {
   "cell_type": "markdown",
   "id": "84a3f12a-58f6-4a1e-98dc-8f399fb16e3f",
   "metadata": {},
   "source": [
    "<p><b>Table 2.</b></p>\n",
    "<p><i>List of Models, Best Parameters, and Test Score</i></p>"
   ]
  },
  {
   "cell_type": "code",
   "execution_count": 55,
   "id": "1ea3d028-e458-43e1-890f-fa5dcf261d18",
   "metadata": {
    "execution": {
     "iopub.execute_input": "2023-12-09T19:14:38.141899Z",
     "iopub.status.busy": "2023-12-09T19:14:38.141676Z",
     "iopub.status.idle": "2023-12-09T19:14:38.150133Z",
     "shell.execute_reply": "2023-12-09T19:14:38.149173Z",
     "shell.execute_reply.started": "2023-12-09T19:14:38.141879Z"
    },
    "tags": []
   },
   "outputs": [
    {
     "data": {
      "text/html": [
       "<table border=\"1\" class=\"dataframe\">\n",
       "  <thead>\n",
       "    <tr style=\"text-align: right;\">\n",
       "      <th></th>\n",
       "      <th>Name of Model</th>\n",
       "      <th>Best Parameters</th>\n",
       "      <th>Test Accuracy</th>\n",
       "    </tr>\n",
       "  </thead>\n",
       "  <tbody>\n",
       "    <tr>\n",
       "      <th>0</th>\n",
       "      <td>SVC (Linear)</td>\n",
       "      <td>C = 0.001</td>\n",
       "      <td>0.697115</td>\n",
       "    </tr>\n",
       "    <tr>\n",
       "      <th>1</th>\n",
       "      <td>SVC (Poly)</td>\n",
       "      <td>C = 0.001</td>\n",
       "      <td>0.700321</td>\n",
       "    </tr>\n",
       "    <tr>\n",
       "      <th>2</th>\n",
       "      <td>SVC (RBF)</td>\n",
       "      <td>C = 1e-08</td>\n",
       "      <td>0.741987</td>\n",
       "    </tr>\n",
       "    <tr>\n",
       "      <th>3</th>\n",
       "      <td>SVC (Sigmoid)</td>\n",
       "      <td>C = 0.01</td>\n",
       "      <td>0.689103</td>\n",
       "    </tr>\n",
       "    <tr>\n",
       "      <th>4</th>\n",
       "      <td>Logistic Regression</td>\n",
       "      <td>C = 1e-08</td>\n",
       "      <td>0.741987</td>\n",
       "    </tr>\n",
       "    <tr>\n",
       "      <th>5</th>\n",
       "      <td>K-Nearest Neighbors Classifier</td>\n",
       "      <td>n_neighbors = 294</td>\n",
       "      <td>0.661859</td>\n",
       "    </tr>\n",
       "    <tr>\n",
       "      <th>6</th>\n",
       "      <td>Random Forest Classifier</td>\n",
       "      <td>Max Depth = 6</td>\n",
       "      <td>0.562500</td>\n",
       "    </tr>\n",
       "    <tr>\n",
       "      <th>7</th>\n",
       "      <td>Gradient Boosting Classifier</td>\n",
       "      <td>Max Depth = 13<br>Learning Rate = 0.1</td>\n",
       "      <td>0.520833</td>\n",
       "    </tr>\n",
       "  </tbody>\n",
       "</table>"
      ],
      "text/plain": [
       "<IPython.core.display.HTML object>"
      ]
     },
     "metadata": {},
     "output_type": "display_data"
    }
   ],
   "source": [
    "cv_helpers.pretty_print(df_test)"
   ]
  },
  {
   "cell_type": "markdown",
   "id": "7aff6f87-8367-401b-abdd-1aeaad54e73f",
   "metadata": {},
   "source": [
    "<p style='text-indent: 2em'>Given a test score or accuracy of <b>0.692308</b>, the SVC (Sigmoid) performed a bit poorly as compared to its validation score; in spite of this, its validation accuracy of <b>0.798148</b> provides a justification that it can be moderately or fairly generalized to other images, which can still be evidenced by the moderately high test accuracy.</p>"
   ]
  },
  {
   "cell_type": "markdown",
   "id": "22e06f3f-2494-4bf9-bb2d-b7a67fee4a99",
   "metadata": {},
   "source": [
    "[Back to Table of Contents](#TOC)"
   ]
  },
  {
   "cell_type": "markdown",
   "id": "62c32780-047e-4c2b-bc35-8c83df01aba0",
   "metadata": {},
   "source": [
    "<a id='Results'></a>\n",
    "<h1 style=\"color:#ffffff; background-color:#000000; border: 1px solid #ffffff; padding: 10px 10px 10px 10px;\"><b>VIII. RESULTS AND DISCUSSION</b></h1>"
   ]
  },
  {
   "cell_type": "markdown",
   "id": "87762e8e-ba38-4576-9ec2-2ae807392a36",
   "metadata": {},
   "source": [
    "<p style='text-indent: 2em'>First, in order to fairly evaluate the test accuracy of the chosen model (SVC Sigmoid), the heuristic based on the proportion chance criterion which should be exceeded would first be calculated.</p>"
   ]
  },
  {
   "cell_type": "markdown",
   "id": "3a10f0fc-1bf2-4fa3-af99-fa5020366fc2",
   "metadata": {},
   "source": [
    "$$PCC * 1.25 = ((1079/2158)^{2} + (1079/2158)^{2}) * 1.25$$\n",
    "$$PCC * 1.25 = 0.625$$"
   ]
  },
  {
   "cell_type": "code",
   "execution_count": 56,
   "id": "bf4748b8-f314-4bbc-a524-c5f932596a54",
   "metadata": {
    "execution": {
     "iopub.execute_input": "2023-12-09T19:14:38.151096Z",
     "iopub.status.busy": "2023-12-09T19:14:38.150850Z",
     "iopub.status.idle": "2023-12-09T19:14:38.272182Z",
     "shell.execute_reply": "2023-12-09T19:14:38.271196Z",
     "shell.execute_reply.started": "2023-12-09T19:14:38.151073Z"
    },
    "tags": []
   },
   "outputs": [],
   "source": [
    "%%capture\n",
    "plt.bar(height=1079, x='Normal', color='black')\n",
    "plt.bar(height=1079, x='Pneumonia', color='black')\n",
    "plt.title('Distribution of both Classes')\n",
    "plt.xlabel('Class')\n",
    "plt.ylabel('Frequency')\n",
    "plt.show()"
   ]
  },
  {
   "cell_type": "markdown",
   "id": "0f0f4a53-895c-46d1-b32e-c9b54e8cc6ff",
   "metadata": {},
   "source": [
    "<center><img src='PCC.png'/></center>"
   ]
  },
  {
   "cell_type": "markdown",
   "id": "0aff9ab3-a499-4001-b0e7-693817993228",
   "metadata": {},
   "source": [
    "<center><b>Figure 19.</b> Frequency Distribution of Both Classes</center>"
   ]
  },
  {
   "cell_type": "markdown",
   "id": "cbea8fad-2506-4dd6-87bc-a77941a1aebd",
   "metadata": {},
   "source": [
    "<p style='text-indent: 2em'>As seen above, the classes are equally distributed, and so, given a heuristic accuracy of 0.625, the validation accuracy of the model which is <b>0.798148</b> and the test accuracy of the model which is <b>0.692308</b>, the heuristic accuracy is exceeded and so, the model performs well and does not classify randomly or by chance.</p>"
   ]
  },
  {
   "cell_type": "code",
   "execution_count": 57,
   "id": "344b7648-9009-4660-9902-f51af5ccfa3d",
   "metadata": {
    "execution": {
     "iopub.execute_input": "2023-12-09T19:14:38.273314Z",
     "iopub.status.busy": "2023-12-09T19:14:38.273084Z",
     "iopub.status.idle": "2023-12-09T19:14:38.343740Z",
     "shell.execute_reply": "2023-12-09T19:14:38.342599Z",
     "shell.execute_reply.started": "2023-12-09T19:14:38.273292Z"
    },
    "tags": []
   },
   "outputs": [],
   "source": [
    "# Predictions of the chosen model\n",
    "y_pred = svc_sig.predict(bovw_hist_test)"
   ]
  },
  {
   "cell_type": "code",
   "execution_count": 58,
   "id": "79d16185-7a72-483b-8049-c08fe567a635",
   "metadata": {
    "execution": {
     "iopub.execute_input": "2023-12-09T19:14:38.344842Z",
     "iopub.status.busy": "2023-12-09T19:14:38.344620Z",
     "iopub.status.idle": "2023-12-09T19:14:38.431355Z",
     "shell.execute_reply": "2023-12-09T19:14:38.429851Z",
     "shell.execute_reply.started": "2023-12-09T19:14:38.344822Z"
    },
    "tags": []
   },
   "outputs": [],
   "source": [
    "%%capture\n",
    "ConfusionMatrixDisplay.from_predictions(y_test, y_pred, labels=[0, 1], display_labels=['Normal', 'Pneumonia'],\n",
    "                                       cmap='binary_r', colorbar=False)\n",
    "plt.show()"
   ]
  },
  {
   "cell_type": "markdown",
   "id": "8b6a9f02-0f2a-4538-8c47-692e92fb0a18",
   "metadata": {},
   "source": [
    "<center><img src='confusion.png'/></center>"
   ]
  },
  {
   "cell_type": "markdown",
   "id": "f9a43b55-c6f6-4b44-8e9b-d8d9c82d9480",
   "metadata": {},
   "source": [
    "<center><b>Figure 20.</b> Confusion Matrix</center>"
   ]
  },
  {
   "cell_type": "markdown",
   "id": "424bbcd1-4106-42e4-b359-e8261c6590cb",
   "metadata": {},
   "source": [
    "<p style='text-indent: 2em'>As seen above, there are more false positives as compared to false negatives. Moreover, it can be said that the model is very good at predicting positive or pneumonia cases than negative cases. This is actually a good characteristic of the model, given that in medical applications of machine learning, being able to detect most of the positive cases (wherein false positives may seep through) is better than missing the positive cases and having more false negatives seep through. This is particularly important given that surges such as the recent onbe, finding most of the positive cases is very important, as to avoid further spread of the disease by the positive cases.</p>"
   ]
  },
  {
   "cell_type": "code",
   "execution_count": 59,
   "id": "c88f7478-4807-48a5-8206-1dc5fc4e7cd4",
   "metadata": {
    "execution": {
     "iopub.execute_input": "2023-12-09T19:14:38.432450Z",
     "iopub.status.busy": "2023-12-09T19:14:38.432212Z",
     "iopub.status.idle": "2023-12-09T19:14:38.437541Z",
     "shell.execute_reply": "2023-12-09T19:14:38.436243Z",
     "shell.execute_reply.started": "2023-12-09T19:14:38.432427Z"
    },
    "tags": []
   },
   "outputs": [],
   "source": [
    "target_names = ['Normal', 'Pneumonia']"
   ]
  },
  {
   "cell_type": "markdown",
   "id": "bcd74f20-7719-4351-8f3e-4f4e7699fa55",
   "metadata": {},
   "source": [
    "<p><b>Table 3.</b></p>\n",
    "<p><i>Classification Report</i></p>"
   ]
  },
  {
   "cell_type": "code",
   "execution_count": 60,
   "id": "10613293-efa5-477a-b856-81e183ee4790",
   "metadata": {
    "execution": {
     "iopub.execute_input": "2023-12-09T19:14:38.438505Z",
     "iopub.status.busy": "2023-12-09T19:14:38.438267Z",
     "iopub.status.idle": "2023-12-09T19:14:38.457247Z",
     "shell.execute_reply": "2023-12-09T19:14:38.456212Z",
     "shell.execute_reply.started": "2023-12-09T19:14:38.438482Z"
    },
    "tags": []
   },
   "outputs": [
    {
     "name": "stdout",
     "output_type": "stream",
     "text": [
      "              precision    recall  f1-score   support\n",
      "\n",
      "      Normal       0.61      0.48      0.54       234\n",
      "   Pneumonia       0.72      0.81      0.77       390\n",
      "\n",
      "    accuracy                           0.69       624\n",
      "   macro avg       0.67      0.65      0.65       624\n",
      "weighted avg       0.68      0.69      0.68       624\n",
      "\n"
     ]
    }
   ],
   "source": [
    "print(classification_report(y_test, y_pred, target_names=target_names))"
   ]
  },
  {
   "cell_type": "markdown",
   "id": "551556e6-64f0-4ad4-977a-27199ef43f5a",
   "metadata": {},
   "source": [
    "<p style='text-indent: 2em'>Focusing more on both the precision and recall, it was found through the precision scores, that the model is indeed more capable of finding true positives over true negatives. This is further supported by the model's recall wherein the recall for pneumonia cases is 0.82, which means that the model is capable of classifying the positive cases well (given that there are few \"false negatives\" for pneumonia). The recall on the other hand, for normal, which is 0.48, denotes that the model often return a lot of \"false false negatives\" or false positives, which is not necessarily bad for screening tools used for medical purposes.</p>"
   ]
  },
  {
   "cell_type": "markdown",
   "id": "a5901924-30ba-47ae-8463-b455b46fe121",
   "metadata": {},
   "source": [
    "<p><b>Table 4.</b></p>\n",
    "<p><i>Sensitivity and Specificity</i></p>"
   ]
  },
  {
   "cell_type": "code",
   "execution_count": 61,
   "id": "63d530db-7264-43f4-a961-36ef0d8d895f",
   "metadata": {
    "execution": {
     "iopub.execute_input": "2023-12-09T19:14:38.458106Z",
     "iopub.status.busy": "2023-12-09T19:14:38.457892Z",
     "iopub.status.idle": "2023-12-09T19:14:38.469924Z",
     "shell.execute_reply": "2023-12-09T19:14:38.468853Z",
     "shell.execute_reply.started": "2023-12-09T19:14:38.458086Z"
    },
    "tags": []
   },
   "outputs": [
    {
     "data": {
      "text/html": [
       "<div>\n",
       "<style scoped>\n",
       "    .dataframe tbody tr th:only-of-type {\n",
       "        vertical-align: middle;\n",
       "    }\n",
       "\n",
       "    .dataframe tbody tr th {\n",
       "        vertical-align: top;\n",
       "    }\n",
       "\n",
       "    .dataframe thead th {\n",
       "        text-align: right;\n",
       "    }\n",
       "</style>\n",
       "<table border=\"1\" class=\"dataframe\">\n",
       "  <thead>\n",
       "    <tr style=\"text-align: right;\">\n",
       "      <th></th>\n",
       "      <th>Sensitivity</th>\n",
       "      <th>Specificity</th>\n",
       "    </tr>\n",
       "  </thead>\n",
       "  <tbody>\n",
       "    <tr>\n",
       "      <th>0</th>\n",
       "      <td>0.817949</td>\n",
       "      <td>0.482906</td>\n",
       "    </tr>\n",
       "  </tbody>\n",
       "</table>\n",
       "</div>"
      ],
      "text/plain": [
       "   Sensitivity  Specificity\n",
       "0     0.817949     0.482906"
      ]
     },
     "execution_count": 61,
     "metadata": {},
     "output_type": "execute_result"
    }
   ],
   "source": [
    "df = pd.DataFrame({'Sensitivity': 319/(319+71), 'Specificity': 113/(113+121)},\n",
    "                 index=[0])\n",
    "df"
   ]
  },
  {
   "cell_type": "markdown",
   "id": "8bd91033-2dd6-4fec-8723-3b4be2fc845c",
   "metadata": {},
   "source": [
    "<p style='text-indent: 2em'>As supported by the previous result from the classification report, it can be said that the model is more capable of finding positive cases over negatives cases, given the disparity between sensitivity and specificity. This further supports the claim that the model can be used for screening cases of pneumonia, given that it is very capable of detecting several positive cases.</p>"
   ]
  },
  {
   "cell_type": "code",
   "execution_count": 62,
   "id": "389fc0fb-21d6-4c6e-8803-a6448a0db46f",
   "metadata": {
    "execution": {
     "iopub.execute_input": "2023-12-09T19:14:38.470783Z",
     "iopub.status.busy": "2023-12-09T19:14:38.470561Z",
     "iopub.status.idle": "2023-12-09T19:14:38.541883Z",
     "shell.execute_reply": "2023-12-09T19:14:38.540713Z",
     "shell.execute_reply.started": "2023-12-09T19:14:38.470763Z"
    },
    "tags": []
   },
   "outputs": [],
   "source": [
    "dec = svc_sig.decision_function(bovw_hist_test)"
   ]
  },
  {
   "cell_type": "code",
   "execution_count": 63,
   "id": "822fa2c3-3391-4eb4-bdd7-fec7dc73b647",
   "metadata": {
    "execution": {
     "iopub.execute_input": "2023-12-09T19:14:38.542860Z",
     "iopub.status.busy": "2023-12-09T19:14:38.542646Z",
     "iopub.status.idle": "2023-12-09T19:14:38.549645Z",
     "shell.execute_reply": "2023-12-09T19:14:38.548241Z",
     "shell.execute_reply.started": "2023-12-09T19:14:38.542841Z"
    },
    "tags": []
   },
   "outputs": [],
   "source": [
    "fpr, tpr, thresholds = metrics.roc_curve(y_test, dec)"
   ]
  },
  {
   "cell_type": "code",
   "execution_count": 64,
   "id": "ef779354-e7d5-4ba1-99eb-c614e7d73687",
   "metadata": {
    "execution": {
     "iopub.execute_input": "2023-12-09T19:14:38.551331Z",
     "iopub.status.busy": "2023-12-09T19:14:38.550988Z",
     "iopub.status.idle": "2023-12-09T19:14:38.710807Z",
     "shell.execute_reply": "2023-12-09T19:14:38.709731Z",
     "shell.execute_reply.started": "2023-12-09T19:14:38.551299Z"
    },
    "tags": []
   },
   "outputs": [],
   "source": [
    "%%capture\n",
    "plt.plot(fpr, tpr)\n",
    "x_ticks = np.arange(0, 1.1, 0.1)\n",
    "y_ticks = np.arange(0, 1.1, 0.1)\n",
    "plt.plot(x_ticks, y_ticks, '--r')\n",
    "plt.title('Receiver Operating Characteristic Curve')\n",
    "plt.xlabel('False Positive Rate')\n",
    "plt.ylabel('True Positive Rate')\n",
    "plt.text(0.6, 0.8, f'AUC = {metrics.auc(fpr, tpr):.2f}')\n",
    "plt.show()"
   ]
  },
  {
   "cell_type": "markdown",
   "id": "867777bb-f86b-4bab-b6b7-9f631984469d",
   "metadata": {},
   "source": [
    "<center><img src='roc_curve.png'/></center>"
   ]
  },
  {
   "cell_type": "markdown",
   "id": "4939163d-c781-459e-833b-8bf38210da10",
   "metadata": {},
   "source": [
    "<center><b>Figure 21.</b> ROC Curve</center>"
   ]
  },
  {
   "cell_type": "markdown",
   "id": "8b14da54-3a29-4c40-867a-960604b41baf",
   "metadata": {},
   "source": [
    "<p style='text-indent: 2em'>Lastly, as seen in the figure above, the ROC curve is beyond the diagonal line which means that the curve is capable of differentiating the classes very well, as compared to randomly guessing them or worse, do worse than guessing at random. Moreover, the area-under-the-curve which is 0.76 supports this statement as well.</p>"
   ]
  },
  {
   "cell_type": "markdown",
   "id": "bd794619-c8b3-453e-b6a8-92660b97d5aa",
   "metadata": {},
   "source": [
    "[Back to Table of Contents](#TOC)"
   ]
  },
  {
   "cell_type": "code",
   "execution_count": 70,
   "id": "87c0b990-904d-44c9-93d2-b01c9ec567e2",
   "metadata": {
    "execution": {
     "iopub.execute_input": "2023-12-09T19:18:18.270961Z",
     "iopub.status.busy": "2023-12-09T19:18:18.270025Z",
     "iopub.status.idle": "2023-12-09T19:18:18.287578Z",
     "shell.execute_reply": "2023-12-09T19:18:18.285911Z",
     "shell.execute_reply.started": "2023-12-09T19:18:18.270889Z"
    },
    "tags": []
   },
   "outputs": [],
   "source": [
    "def search_k_title():\n",
    "    \"\"\"Display the drop-down menu widget and button widget\n",
    "    \"\"\"\n",
    "    lst_reco_state = ['normal', 'pneumonia']\n",
    "\n",
    "    reco_k = widgets.Dropdown(\n",
    "        options=lst_reco_state,\n",
    "        value='normal',\n",
    "        description='State',\n",
    "        disabled=False,\n",
    "    )\n",
    "\n",
    "    display(reco_k)\n",
    "\n",
    "    button = widgets.Button(description=\"Search\", button_style='success')\n",
    "    output = widgets.Output()\n",
    "    display(button, output)\n",
    "\n",
    "    def on_button_clicked(b):\n",
    "        \"\"\"Run an event given a click input of the button\n",
    "\n",
    "        Parameters\n",
    "        ----------\n",
    "        b : Button\n",
    "            Button\n",
    "        \"\"\"\n",
    "        with output:\n",
    "            clear_output(wait=True)\n",
    "            lst = cv_helpers.predict(reco_k.value, svc_sig, kmeans_model, scaler, scaler2)\n",
    "            print(f'The person is/have {lst[0]}')\n",
    "            print('Before Processing')\n",
    "            plt.imshow(lst[1])\n",
    "            plt.show()\n",
    "            print('After Processing')\n",
    "            plt.imshow(lst[2])\n",
    "            plt.show()\n",
    "\n",
    "    button.on_click(on_button_clicked)"
   ]
  },
  {
   "cell_type": "code",
   "execution_count": 71,
   "id": "345a063f-bbf6-4311-a914-4a9c9e865c3f",
   "metadata": {
    "execution": {
     "iopub.execute_input": "2023-12-09T19:18:20.301005Z",
     "iopub.status.busy": "2023-12-09T19:18:20.300213Z",
     "iopub.status.idle": "2023-12-09T19:18:20.326978Z",
     "shell.execute_reply": "2023-12-09T19:18:20.325724Z",
     "shell.execute_reply.started": "2023-12-09T19:18:20.300942Z"
    },
    "tags": []
   },
   "outputs": [
    {
     "data": {
      "application/vnd.jupyter.widget-view+json": {
       "model_id": "ea5d659115094a199e566b57be05f8e6",
       "version_major": 2,
       "version_minor": 0
      },
      "text/plain": [
       "Dropdown(description='State', options=('normal', 'pneumonia'), value='normal')"
      ]
     },
     "metadata": {},
     "output_type": "display_data"
    },
    {
     "data": {
      "application/vnd.jupyter.widget-view+json": {
       "model_id": "b825a4d22c5d4635807a785fc38095ac",
       "version_major": 2,
       "version_minor": 0
      },
      "text/plain": [
       "Button(button_style='success', description='Search', style=ButtonStyle())"
      ]
     },
     "metadata": {},
     "output_type": "display_data"
    },
    {
     "data": {
      "application/vnd.jupyter.widget-view+json": {
       "model_id": "984d48f96c014c32aa7473d37365a6dd",
       "version_major": 2,
       "version_minor": 0
      },
      "text/plain": [
       "Output()"
      ]
     },
     "metadata": {},
     "output_type": "display_data"
    }
   ],
   "source": [
    "search_k_title()"
   ]
  },
  {
   "cell_type": "markdown",
   "id": "1b8706af-80db-42c3-93e2-6a4c6d67933a",
   "metadata": {},
   "source": [
    "<a id='Conclusion'></a>\n",
    "<h1 style=\"color:#ffffff; background-color:#000000; border: 1px solid #ffffff; padding: 10px 10px 10px 10px;\"><b>IX. CONCLUSION</b></h1>"
   ]
  },
  {
   "cell_type": "markdown",
   "id": "c26080ff-f648-4635-bda5-1481e22eb6c7",
   "metadata": {},
   "source": [
    "<p style='text-indent: 2em'>In conclusion, given the metrics that were found and using the dataset, the model, SVC (Sigmoid) with a C parameter of 0.01 is found to be the best, generalizable model for the given demographic of the dataset. Moreover, given its capability to detect more positive cases, it can be used as a screening tool and a secondary tool where the radiologist can run suspected positive cases through the model and confirm through the model whether the cases are indeed truly positive or not.</p>"
   ]
  },
  {
   "cell_type": "markdown",
   "id": "eeafb6aa-0515-4ab3-b68c-665d18a4a8cc",
   "metadata": {},
   "source": [
    "[Back to Table of Contents](#TOC)"
   ]
  },
  {
   "cell_type": "markdown",
   "id": "451946f0-910b-4dd4-9db7-14c822e3e57c",
   "metadata": {},
   "source": [
    "<a id='Recommendations'></a>\n",
    "<h1 style=\"color:#ffffff; background-color:#000000; border: 1px solid #ffffff; padding: 10px 10px 10px 10px;\"><b>X. RECOMMENDATIONS</b></h1>"
   ]
  },
  {
   "cell_type": "markdown",
   "id": "6fc55bfa-3ecc-4d00-9cd5-2260d411e4f9",
   "metadata": {},
   "source": [
    "<p style='text-indent: 2em'>As a recommendation, given that Zhou, Greenspan, and Shen recommended the use of neural networks for image classification, an additional foray into this machine learning model may be done in order to further improve the accuracy of the model.<sup><a href='#Six'>6</a></sup> Moreover, other scalers such as RobustScaler may be used in order to check whether the accuracy improves after using the said scalers. Lastly, it would also be good to explore the same pipeline, but with different datasets, in order to see which datasets the model is good at classifiying or performing.</p>"
   ]
  },
  {
   "cell_type": "markdown",
   "id": "24974e28-41c7-4beb-8056-dc5df705e51a",
   "metadata": {},
   "source": [
    "[Back to Table of Contents](#TOC)"
   ]
  },
  {
   "cell_type": "markdown",
   "id": "f7fa66f8-5545-4ffc-8060-78e9f49aa90d",
   "metadata": {},
   "source": [
    "<a id='References'></a>\n",
    "<h1 style=\"color:#ffffff; background-color:#000000; border: 1px solid #ffffff; padding: 10px 10px 10px 10px;\"><b>REFERENCES</b></h1>"
   ]
  },
  {
   "cell_type": "markdown",
   "id": "d930720c-226c-4b98-b02a-22d16b616dd8",
   "metadata": {
    "execution": {
     "iopub.execute_input": "2023-12-08T14:44:20.398421Z",
     "iopub.status.busy": "2023-12-08T14:44:20.397695Z",
     "iopub.status.idle": "2023-12-08T14:44:20.410603Z",
     "shell.execute_reply": "2023-12-08T14:44:20.407731Z",
     "shell.execute_reply.started": "2023-12-08T14:44:20.398359Z"
    },
    "tags": []
   },
   "source": [
    "<a id='One'></a>\n",
    "<p style='margin-left: 2em'>1. Lim, S. W. (2021). Pneumonia—Overview. Encyclopedia of Respiratory Medicine, 2022 : 185–197. https://www.ncbi.nlm.nih.gov/pmc/articles/PMC7241411/</p>"
   ]
  },
  {
   "cell_type": "markdown",
   "id": "04dc60b1-f935-41e1-b61f-51806731000c",
   "metadata": {
    "execution": {
     "iopub.execute_input": "2023-12-08T14:22:49.028667Z",
     "iopub.status.busy": "2023-12-08T14:22:49.027880Z",
     "iopub.status.idle": "2023-12-08T14:22:49.042107Z",
     "shell.execute_reply": "2023-12-08T14:22:49.039669Z",
     "shell.execute_reply.started": "2023-12-08T14:22:49.028591Z"
    },
    "tags": []
   },
   "source": [
    "<a id='Two'></a>\n",
    "<p style='margin-left: 2em'>2. Faculty of Public Health (n.d.). Measures of disease burden (event-based and time-based) and population attributable risks including identification of comparison groups appropriate to Public Health. Retrieved from https://www.healthknowledge.org.uk/public-health-textbook/research-methods/1a-epidemiology/measures-disease-burden</p>"
   ]
  },
  {
   "cell_type": "markdown",
   "id": "f34b4d3a-1f4e-4f82-aeca-5569179a6637",
   "metadata": {},
   "source": [
    "<a id='Three'></a>\n",
    "<p style='margin-left: 2em'>3. Leswing, K. After years of 5G hype and investment, Wednesday’s network launch makes it real. NBC News. https://www.nbcnews.com/health/health-news/mycoplasma-pneumonia-illness-outbreak-china-denmark-ohio-what-know-rcna127372. Published 2022; Accessed December 9, 2023.</p>"
   ]
  },
  {
   "cell_type": "markdown",
   "id": "8d8644f9-4fc7-4bbb-9829-5cf04b10f366",
   "metadata": {},
   "source": [
    "<a id='Four'></a>\n",
    "<p style='margin-left: 2em'>4. Jackson, W. In Radiology, Turnaround Time is King. Diagnostic Imaging. https://www.diagnosticimaging.com/view/radiology-turnaround-time-king. Published 2015; Accessed December 9, 2023.</p>"
   ]
  },
  {
   "cell_type": "markdown",
   "id": "a1e3b384-fc34-4602-990e-3b62dc01c2e6",
   "metadata": {},
   "source": [
    "<a id='Five'></a>\n",
    "<p style='margin-left: 2em'>5. Bhargavan, Kaye, Forman, Sunshine. Workload of radiologists in United States in 2006-2007 and trends since 1991-1992. https://pubmed.ncbi.nlm.nih.gov/19508987/https://pubmed.ncbi.nlm.nih.gov/19508987/. National Library of Medicine. Published 2009; Accessed December 9, 2023.</p>"
   ]
  },
  {
   "cell_type": "markdown",
   "id": "537495a5-53a1-4936-8bef-83b2a5f5704b",
   "metadata": {},
   "source": [
    "<a id='Five'></a>\n",
    "<p style='margin-left: 2em'>6. Zhou, K. S., Greenspan, H., and Shen, D. (2017). Deep Learning for Medical Image Analysis. Academic Press Elsevier.</p>"
   ]
  },
  {
   "cell_type": "markdown",
   "id": "80048a9f-2db4-4a9e-bf3e-af996ab9bbd8",
   "metadata": {},
   "source": [
    "<a id='Seven'></a>\n",
    "<p style='margin-left: 2em'>7. RadiologyInfo.org. Pneumonia. RadiologyInfo.org. https://www.radiologyinfo.org/en/info/pneumonia#:~:text=Chest%20x%2Dray%3A%20An%20x,infiltrates)%20that%20identify%20an%20infection. Published 2023; Accessed December 9, 2023.</p>"
   ]
  },
  {
   "cell_type": "markdown",
   "id": "765dbda4-5d15-4c48-8f2f-f10a5a9bf103",
   "metadata": {},
   "source": [
    "<a id='Eight'></a>\n",
    "<p style='margin-left: 2em'>8. Mooney, P. Chest X-Ray Images (Pneumonia). Kaggle. https://www.kaggle.com/datasets/paultimothymooney/chest-xray-pneumonia; Accessed December 9, 2023.</p>"
   ]
  },
  {
   "cell_type": "markdown",
   "id": "a8b8dff1-f878-447f-b30d-2be948e4eaee",
   "metadata": {},
   "source": [
    "<a id='Nine'></a>\n",
    "<p style='margin-left: 2em'>9. Nallamuthu, N. Handling Imbalanced Data – Machine Learning, Computer Vision and NLP. Analytics Vidhya. https://www.analyticsvidhya.com/blog/2020/11/handling-imbalanced-data-machine-learning-computer-vision-and-nlp/#:~:text=The%20main%20two%20methods%20that,the%20validation%20and%20testing%20data. Published 2023; Accessed December 9, 2023.</p>"
   ]
  },
  {
   "cell_type": "markdown",
   "id": "3fcdab4b-d85f-4b62-9d8a-5214f69f09d1",
   "metadata": {},
   "source": [
    "<a id='Ten'></a>\n",
    "<p style='margin-left: 2em'>10. Picsellia. How to Ensure Image Dataset Quality In Image Classification. Picsellia. https://www.picsellia.com/post/image-data-quality-for-image-classification#:~:text=It%20can%20be%20complicated%20to,decent%20amount%20to%20start%20with. Published 2022; Accessed December 9, 2023</p>"
   ]
  },
  {
   "cell_type": "markdown",
   "id": "62db06fc-cedb-44ae-befb-5a91dbc99ccc",
   "metadata": {},
   "source": [
    "<a id='Eleven'></a>\n",
    "<p style='margin-left: 2em'>11. Smithuis, R. Chest X-Ray - Lung disease\n",
    "Four-Pattern Approach. Radiology Assistant. https://radiologyassistant.nl/chest/chest-x-ray/lung-disease Published 2014; Accessed December 9, 2023</p>"
   ]
  },
  {
   "cell_type": "markdown",
   "id": "0fe982eb-c5af-4877-950e-f62059b74fff",
   "metadata": {},
   "source": [
    "<a id='Twelve'></a>\n",
    "<p style='margin-left: 2em'>12. National Institute of Biomedical Imaging and Bioengineering. X-rays. National Institute of Biomedical Imaging and Bioengineering. https://www.nibib.nih.gov/science-education/science-topics/x-rays. Published 2022; Accessed December 9, 2023</p>"
   ]
  },
  {
   "cell_type": "markdown",
   "id": "7def6450-f9a3-4f38-99c3-2aff91e4a849",
   "metadata": {},
   "source": [
    "<a id='Thirteen'></a>\n",
    "<p style='margin-left: 2em'>13. Rajnis. Python OpenCV | cv2.imread() method. GeeksForGeeks. https://www.geeksforgeeks.org/python-opencv-cv2-imread-method/. Published 2023; Accessed December 9, 2023.</p>"
   ]
  },
  {
   "cell_type": "markdown",
   "id": "45a1f09d-7250-4a86-8970-c42f88b8c358",
   "metadata": {},
   "source": [
    "<a id='Fourteen'></a>\n",
    "<p style='margin-left: 2em'>14. LearnOpenCV. Image Resizing with OpenCV. LearnOpenCV. https://learnopencv.com/image-resizing-with-opencv/#resize-by-wdith-height; December 9, 2023</p>"
   ]
  },
  {
   "cell_type": "markdown",
   "id": "e47c1908-9c3f-4935-a204-a95c2f6c2d06",
   "metadata": {},
   "source": [
    "<a id='Fifteen'></a>\n",
    "<p style='margin-left: 2em'>15. Fisher, Perkins, Walker and Wolfart. Gaussian Smoothing. Image Processing Learning Resources. https://homepages.inf.ed.ac.uk/rbf/HIPR2/gsmooth.htm. Published 2003; Accessed December 9, 2023</p>"
   ]
  },
  {
   "cell_type": "markdown",
   "id": "c7cf893b-6b17-4173-8c3e-0639ab1ae219",
   "metadata": {},
   "source": [
    "<a id='Sixteen'></a>\n",
    "<p style='margin-left: 2em'>16. Open Source Computer Vision. Color conversionsColor conversions. Open Source Computer Vision. https://docs.opencv.org/3.4/de/d25/imgproc_color_conversions.html; Accessed December 9, 2023</p>"
   ]
  },
  {
   "cell_type": "markdown",
   "id": "dadde764-58da-4235-9b3d-ea6e75136e07",
   "metadata": {
    "execution": {
     "iopub.execute_input": "2023-12-08T20:38:37.691773Z",
     "iopub.status.busy": "2023-12-08T20:38:37.691013Z",
     "iopub.status.idle": "2023-12-08T20:38:37.702969Z",
     "shell.execute_reply": "2023-12-08T20:38:37.700703Z",
     "shell.execute_reply.started": "2023-12-08T20:38:37.691710Z"
    },
    "tags": []
   },
   "source": [
    "<a id='Seventeen'></a>\n",
    "<p style='margin-left: 2em'>17. OpenCV. (n.d.). Histogram Equalization. Retrieved from https://docs.opencv.org/4.x/d4/d1b/tutorial_histogram_equalization.html</p>"
   ]
  },
  {
   "cell_type": "markdown",
   "id": "c2c275d3-49e1-4c65-9826-f15765f6c952",
   "metadata": {},
   "source": [
    "<a id='Eighteen'></a>\n",
    "<p style='margin-left: 2em'>18. Molecular Expressions. (n.d.). Contrast Manipulation in Digital Images. Retrieved from https://micro.magnet.fsu.edu/primer/java/digitalimaging/processing/contrast/index.html</p>"
   ]
  },
  {
   "cell_type": "markdown",
   "id": "4dea80b2-3b07-4046-b1c5-8250386bfb69",
   "metadata": {
    "execution": {
     "iopub.execute_input": "2023-12-08T21:57:53.524656Z",
     "iopub.status.busy": "2023-12-08T21:57:53.523892Z",
     "iopub.status.idle": "2023-12-08T21:57:53.535732Z",
     "shell.execute_reply": "2023-12-08T21:57:53.533615Z",
     "shell.execute_reply.started": "2023-12-08T21:57:53.524593Z"
    },
    "tags": []
   },
   "source": [
    "<a id='Nineteen'></a>\n",
    "<p style='margin-left: 2em'>19. OpenCV. (n.d.). Laplace Operator. Retrieved from https://docs.opencv.org/3.4/d5/db5/tutorial_laplace_operator.html</p>"
   ]
  },
  {
   "cell_type": "markdown",
   "id": "214fefc1-cd62-4940-aaa2-d8107f039458",
   "metadata": {},
   "source": [
    "<a id='Twenty'></a>\n",
    "<p style='margin-left: 2em'>20. WisdomML. (n.d.). How to implement Laplacian Operator Edge Detection in Python. Retrieved from https://wisdomml.in/how-to-implement-laplacian-operator-edge-detection-in-python/#:~:text=The%20Laplacian%20operator%20is%20applied,edges%20in%20the%20original%20image.</p>"
   ]
  },
  {
   "cell_type": "markdown",
   "id": "a6dfc21c-240d-443b-91ac-c62ba8ee107a",
   "metadata": {},
   "source": [
    "<a id='Twenty-one'></a>\n",
    "<p style='margin-left: 2em'>21. Fisher, Perkins, Walker and Wolfart. (2003). 8-bit Color Images. Retrieved from https://homepages.inf.ed.ac.uk/rbf/HIPR2/8bitcol.htm</p>"
   ]
  },
  {
   "cell_type": "markdown",
   "id": "dc209aeb-0aba-4ec4-a3a9-520f063b1548",
   "metadata": {},
   "source": [
    "<a id='Twenty-two'></a>\n",
    "<p style='margin-left: 2em'>22. OpenCV. (n.d.). Introduction to SIFT (Scale-Invariant Feature Transform). Retrieved from https://docs.opencv.org/4.x/da/df5/tutorial_py_sift_intro.html</p>"
   ]
  },
  {
   "cell_type": "markdown",
   "id": "9bdfc5cd-d175-4f65-bf79-7b7574d75fd8",
   "metadata": {},
   "source": [
    "<a id='Twenty-three'></a>\n",
    "<p style='margin-left: 2em'>23. Tyagi, D. Introduction to SIFT( Scale Invariant Feature Transform). Medium. Retrieved from https://medium.com/@deepanshut041/introduction-to-sift-scale-invariant-feature-transform-65d7f3a72d40</p>"
   ]
  },
  {
   "cell_type": "markdown",
   "id": "5beaff00-6738-44cc-97d2-e61a4cb39d95",
   "metadata": {},
   "source": [
    "<a id='Twenty-four'></a>\n",
    "<p style='margin-left: 2em'>24. Bhavsar, M. (2020). Understanding K-Means Clustering. datamahadev. Retrieved from https://datamahadev.com/understanding-k-means-clustering/</p>"
   ]
  },
  {
   "cell_type": "markdown",
   "id": "9323b3b4-0b4c-4f8d-92d7-9bc764178bcf",
   "metadata": {},
   "source": [
    "<a id='Twenty-five'></a>\n",
    "<p style='margin-left: 2em'>25. Banerji, A. (2023). K-Mean: Getting the Optimal Number of Clusters. Analytics Vidhya. Retrieved from https://www.analyticsvidhya.com/blog/2021/05/k-mean-getting-the-optimal-number-of-clusters/#:~:text=The%20silhouette%20coefficient%20or%20silhouette,scikit%2Dlearn%2Fsklearn%20library.</p>"
   ]
  },
  {
   "cell_type": "markdown",
   "id": "99bf1cda-0ec4-46a9-8eb5-a686c3446539",
   "metadata": {},
   "source": [
    "<a id='Twenty-six'></a>\n",
    "<p style='margin-left: 2em'>26. GeeksforGeeks. (n.d.). ML | Mini Batch K-means clustering algorithm. Retrieved from https://www.geeksforgeeks.org/ml-mini-batch-k-means-clustering-algorithm/</p>"
   ]
  },
  {
   "cell_type": "markdown",
   "id": "cbaa7cd8-8b55-4ab1-98d9-296ddc740209",
   "metadata": {},
   "source": [
    "[Back to Table of Contents](#TOC)"
   ]
  }
 ],
 "metadata": {
  "kernelspec": {
   "display_name": "Python 3 (ipykernel)",
   "language": "python",
   "name": "python3"
  },
  "language_info": {
   "codemirror_mode": {
    "name": "ipython",
    "version": 3
   },
   "file_extension": ".py",
   "mimetype": "text/x-python",
   "name": "python",
   "nbconvert_exporter": "python",
   "pygments_lexer": "ipython3",
   "version": "3.11.8"
  }
 },
 "nbformat": 4,
 "nbformat_minor": 5
}
